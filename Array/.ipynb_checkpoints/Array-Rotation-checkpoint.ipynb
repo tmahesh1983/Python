{
 "cells": [
  {
   "cell_type": "markdown",
   "id": "07f35423",
   "metadata": {},
   "source": [
    "## Array Rotation"
   ]
  },
  {
   "cell_type": "code",
   "execution_count": 1,
   "id": "be5424c6",
   "metadata": {},
   "outputs": [],
   "source": [
    "from array import array"
   ]
  },
  {
   "cell_type": "code",
   "execution_count": 2,
   "id": "c4b88967",
   "metadata": {},
   "outputs": [
    {
     "data": {
      "text/plain": [
       "array('i', [1, 2, 3, 4, 5])"
      ]
     },
     "execution_count": 2,
     "metadata": {},
     "output_type": "execute_result"
    }
   ],
   "source": [
    "arr = array('i', [1, 2, 3, 4, 5])\n",
    "arr"
   ]
  },
  {
   "cell_type": "markdown",
   "id": "450332a9",
   "metadata": {},
   "source": [
    "## Approach1\n",
    "O(n)"
   ]
  },
  {
   "cell_type": "code",
   "execution_count": 3,
   "id": "71de4a50",
   "metadata": {},
   "outputs": [
    {
     "data": {
      "text/plain": [
       "[0, 0, 0, 0, 0]"
      ]
     },
     "execution_count": 3,
     "metadata": {},
     "output_type": "execute_result"
    }
   ],
   "source": [
    "b = [0 for i in range(len(arr))]\n",
    "b"
   ]
  },
  {
   "cell_type": "code",
   "execution_count": 4,
   "id": "bd8186cb",
   "metadata": {},
   "outputs": [],
   "source": [
    "k=2\n",
    "for i in range(len(arr)):\n",
    "    b[(i+k)%len(arr)] = arr[i]"
   ]
  },
  {
   "cell_type": "code",
   "execution_count": 5,
   "id": "15fbea11",
   "metadata": {},
   "outputs": [
    {
     "data": {
      "text/plain": [
       "[4, 5, 1, 2, 3]"
      ]
     },
     "execution_count": 5,
     "metadata": {},
     "output_type": "execute_result"
    }
   ],
   "source": [
    "b"
   ]
  },
  {
   "cell_type": "markdown",
   "id": "7037ea6a",
   "metadata": {},
   "source": [
    "## Approach2\n",
    "O(n^2)"
   ]
  },
  {
   "cell_type": "code",
   "execution_count": 6,
   "id": "c351b7a9",
   "metadata": {},
   "outputs": [
    {
     "data": {
      "text/plain": [
       "array('i', [4, 5, 1, 2, 3])"
      ]
     },
     "execution_count": 6,
     "metadata": {},
     "output_type": "execute_result"
    }
   ],
   "source": [
    "k = 2\n",
    "arr = array('i', [1, 2, 3, 4, 5])\n",
    "\n",
    "for i in range(k):\n",
    "    for j in range(1,5):\n",
    "        arr[0],arr[j]=arr[j],arr[0]\n",
    "arr    "
   ]
  },
  {
   "cell_type": "markdown",
   "id": "2d9abe58",
   "metadata": {},
   "source": [
    "## Approach3\n",
    "#### O(1)"
   ]
  },
  {
   "cell_type": "code",
   "execution_count": 7,
   "id": "a9d7db8f",
   "metadata": {},
   "outputs": [
    {
     "data": {
      "text/plain": [
       "array('i', [1, 2, 3, 4, 5])"
      ]
     },
     "execution_count": 7,
     "metadata": {},
     "output_type": "execute_result"
    }
   ],
   "source": [
    "k = 2\n",
    "arr = array('i', [1, 2, 3, 4, 5])\n",
    "arr"
   ]
  },
  {
   "cell_type": "code",
   "execution_count": 8,
   "id": "adb9e64e",
   "metadata": {},
   "outputs": [
    {
     "data": {
      "text/plain": [
       "array('i', [4, 5])"
      ]
     },
     "execution_count": 8,
     "metadata": {},
     "output_type": "execute_result"
    }
   ],
   "source": [
    "arr[-k:]"
   ]
  },
  {
   "cell_type": "code",
   "execution_count": 9,
   "id": "24174950",
   "metadata": {},
   "outputs": [
    {
     "data": {
      "text/plain": [
       "array('i', [1, 2, 3])"
      ]
     },
     "execution_count": 9,
     "metadata": {},
     "output_type": "execute_result"
    }
   ],
   "source": [
    "arr[0:-k]"
   ]
  },
  {
   "cell_type": "code",
   "execution_count": 10,
   "id": "5128d952",
   "metadata": {},
   "outputs": [
    {
     "data": {
      "text/plain": [
       "array('i', [4, 5, 1, 2, 3])"
      ]
     },
     "execution_count": 10,
     "metadata": {},
     "output_type": "execute_result"
    }
   ],
   "source": [
    "arr = arr[-k:] + arr[0:-k]\n",
    "arr"
   ]
  },
  {
   "cell_type": "code",
   "execution_count": null,
   "id": "5e993541",
   "metadata": {},
   "outputs": [],
   "source": []
  }
 ],
 "metadata": {
  "kernelspec": {
   "display_name": "Python 3 (ipykernel)",
   "language": "python",
   "name": "python3"
  },
  "language_info": {
   "codemirror_mode": {
    "name": "ipython",
    "version": 3
   },
   "file_extension": ".py",
   "mimetype": "text/x-python",
   "name": "python",
   "nbconvert_exporter": "python",
   "pygments_lexer": "ipython3",
   "version": "3.10.4"
  }
 },
 "nbformat": 4,
 "nbformat_minor": 5
}
