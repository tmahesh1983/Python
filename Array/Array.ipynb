{
 "cells": [
  {
   "cell_type": "markdown",
   "id": "f66202a4",
   "metadata": {},
   "source": [
    "## Creating Array"
   ]
  },
  {
   "cell_type": "code",
   "execution_count": 24,
   "id": "aa051cc7",
   "metadata": {},
   "outputs": [
    {
     "data": {
      "text/plain": [
       "array('i', [1, 2, 3, 4, 5])"
      ]
     },
     "execution_count": 24,
     "metadata": {},
     "output_type": "execute_result"
    }
   ],
   "source": [
    "from array import array\n",
    "arr = array('i', (i for i in range(1, 6)))\n",
    "arr"
   ]
  },
  {
   "cell_type": "code",
   "execution_count": 26,
   "id": "6ac698b8",
   "metadata": {},
   "outputs": [
    {
     "data": {
      "text/plain": [
       "array.array"
      ]
     },
     "execution_count": 26,
     "metadata": {},
     "output_type": "execute_result"
    }
   ],
   "source": [
    "type(arr)"
   ]
  },
  {
   "cell_type": "code",
   "execution_count": 27,
   "id": "d6485312",
   "metadata": {},
   "outputs": [
    {
     "data": {
      "text/plain": [
       "'i'"
      ]
     },
     "execution_count": 27,
     "metadata": {},
     "output_type": "execute_result"
    }
   ],
   "source": [
    "arr.typecode"
   ]
  },
  {
   "cell_type": "markdown",
   "id": "f0553131",
   "metadata": {},
   "source": [
    "## Slicing"
   ]
  },
  {
   "cell_type": "code",
   "execution_count": 29,
   "id": "7850643c",
   "metadata": {},
   "outputs": [
    {
     "data": {
      "text/plain": [
       "array('i', [2, 3])"
      ]
     },
     "execution_count": 29,
     "metadata": {},
     "output_type": "execute_result"
    }
   ],
   "source": [
    "arr[1:3]"
   ]
  },
  {
   "cell_type": "code",
   "execution_count": 21,
   "id": "fcc6859e",
   "metadata": {},
   "outputs": [],
   "source": [
    "from array import array\n",
    "array2d = [array('i', (i*j for i in range(1,4))) for j in range(1,3)]"
   ]
  },
  {
   "cell_type": "code",
   "execution_count": 34,
   "id": "b8426a1d",
   "metadata": {},
   "outputs": [
    {
     "data": {
      "text/plain": [
       "[array('i', [1, 2, 3]), array('i', [2, 4, 6])]"
      ]
     },
     "execution_count": 34,
     "metadata": {},
     "output_type": "execute_result"
    }
   ],
   "source": [
    "array2d"
   ]
  },
  {
   "cell_type": "code",
   "execution_count": 25,
   "id": "542e3631",
   "metadata": {},
   "outputs": [
    {
     "ename": "SyntaxError",
     "evalue": "invalid syntax (2240023713.py, line 1)",
     "output_type": "error",
     "traceback": [
      "\u001b[1;36m  Input \u001b[1;32mIn [25]\u001b[1;36m\u001b[0m\n\u001b[1;33m    (i*j for i in range(1,4)) for j in range(1,3)\u001b[0m\n\u001b[1;37m                              ^\u001b[0m\n\u001b[1;31mSyntaxError\u001b[0m\u001b[1;31m:\u001b[0m invalid syntax\n"
     ]
    }
   ],
   "source": [
    "(i*j for i in range(1,4)) for j in range(1,3)"
   ]
  },
  {
   "cell_type": "code",
   "execution_count": 32,
   "id": "365bd0fa",
   "metadata": {},
   "outputs": [
    {
     "name": "stdout",
     "output_type": "stream",
     "text": [
      "array('i', [2, 3, 1])\n",
      "3\n"
     ]
    }
   ],
   "source": [
    "from array import array\n",
    "arr = array('i', [1, 2, 3, 1, 4, 7, 9, 12])\n",
    "print(arr[1:4])\n",
    "print(arr[1:4][1])"
   ]
  },
  {
   "cell_type": "code",
   "execution_count": 33,
   "id": "8c744e2f",
   "metadata": {},
   "outputs": [
    {
     "name": "stdout",
     "output_type": "stream",
     "text": [
      "0\n",
      "1\n",
      "2\n"
     ]
    }
   ],
   "source": [
    "for i in range(3):\n",
    "    print(i)"
   ]
  },
  {
   "cell_type": "code",
   "execution_count": 35,
   "id": "6284cc1c",
   "metadata": {},
   "outputs": [],
   "source": [
    "from array import array\n",
    "array2d = [array('f', ((i+5)/(j-3) for i in range(3))) for j in range(3)]\n",
    "c = 0\n",
    "for i in range(3):\n",
    "    for j in range(3):\n",
    "        if array2d[i][j] <= -3:\n",
    "            c += 1"
   ]
  },
  {
   "cell_type": "code",
   "execution_count": 36,
   "id": "c33f09a4",
   "metadata": {},
   "outputs": [
    {
     "data": {
      "text/plain": [
       "5"
      ]
     },
     "execution_count": 36,
     "metadata": {},
     "output_type": "execute_result"
    }
   ],
   "source": [
    "c"
   ]
  },
  {
   "cell_type": "code",
   "execution_count": 66,
   "id": "6dd33660",
   "metadata": {},
   "outputs": [],
   "source": [
    "def char_count(arr):\n",
    "    '''\n",
    "    input:\n",
    "    arr -> the input character array\n",
    "    \n",
    "    output:\n",
    "    consonant_count -> the number of unique consonants present in the character array\n",
    "    '''\n",
    "    consonant_count = 0\n",
    "\n",
    "    \n",
    "    # Your code starts here\n",
    "    vowels = ['a', 'e', 'i', 'o', 'u']\n",
    "    consonant = set()    \n",
    "    \n",
    "    for i in range(len(arr)):\n",
    "        if(arr[i] not in vowels and arr[i] != ' '):\n",
    "            print(arr[i])\n",
    "            consonant.add(arr[i])\n",
    "            \n",
    "    consonant_count = len(consonant)\n",
    "    print(consonant)\n",
    "    \n",
    "    # Your code ends here\n",
    "    return consonant_count"
   ]
  },
  {
   "cell_type": "code",
   "execution_count": 67,
   "id": "0c6afb73",
   "metadata": {},
   "outputs": [
    {
     "name": "stdout",
     "output_type": "stream",
     "text": [
      "b\n",
      "d\n",
      "g\n",
      "j\n",
      "l\n",
      "h\n",
      "s\n",
      "d\n",
      "k\n",
      "f\n",
      "l\n",
      "w\n",
      "d\n",
      "j\n",
      "w\n",
      "l\n",
      "k\n",
      "j\n",
      "{'b', 'j', 'd', 'w', 'f', 'k', 'l', 's', 'g', 'h'}\n"
     ]
    },
    {
     "data": {
      "text/plain": [
       "10"
      ]
     },
     "execution_count": 67,
     "metadata": {},
     "output_type": "execute_result"
    }
   ],
   "source": [
    "char_count('a b d e a g o i e j l h s d k f l w i d j w l k e j')"
   ]
  },
  {
   "cell_type": "code",
   "execution_count": 73,
   "id": "eb478827",
   "metadata": {},
   "outputs": [
    {
     "name": "stdout",
     "output_type": "stream",
     "text": [
      "4   array('i', [7, 6, 4, 6, 9])\n"
     ]
    }
   ],
   "source": [
    "from array import array\n",
    "arr= array(\"i\",[2,1,3,4,7,6,4,6,9])\n",
    "for i in range(len(arr)+1):\n",
    "    if arr[i] in arr[i+1:]:\n",
    "        print(arr[i], \" \", arr[i+1:])\n",
    "        break"
   ]
  },
  {
   "cell_type": "code",
   "execution_count": 85,
   "id": "e1a4012e",
   "metadata": {},
   "outputs": [
    {
     "data": {
      "text/plain": [
       "[[2, 11], [1, 24], [49, 4], [8, 65], [0, 5]]"
      ]
     },
     "execution_count": 85,
     "metadata": {},
     "output_type": "execute_result"
    }
   ],
   "source": [
    "from array import array\n",
    "\n",
    "X= [array(\"i\",[2,1,49,8,0]),\n",
    " array(\"i\",[11,24,4,65,5])]\n",
    "X\n",
    "\n",
    "result = [[X[j][i] for j in range(len(X))] for i in range(len(X[0]))]\n",
    "result\n",
    "# t=[]\n",
    "# transpose= [x for x in result]\n",
    "# print(transpose)\n"
   ]
  },
  {
   "cell_type": "code",
   "execution_count": 87,
   "id": "e6e0e1ce",
   "metadata": {},
   "outputs": [
    {
     "name": "stdout",
     "output_type": "stream",
     "text": [
      "['Astha' 'Raghavendra' 'Ram']\n"
     ]
    }
   ],
   "source": [
    "import numpy as np\n",
    "print(np.sort(np.array(['Ram','Astha','Raghavendra'])))"
   ]
  },
  {
   "cell_type": "code",
   "execution_count": 88,
   "id": "5d8df612",
   "metadata": {},
   "outputs": [
    {
     "data": {
      "text/plain": [
       "array([False, False, False])"
      ]
     },
     "execution_count": 88,
     "metadata": {},
     "output_type": "execute_result"
    }
   ],
   "source": [
    "arr1=np.array(['Ram','Astha','Brahat'])\n",
    "arr2=np.array(['Shyam','Kalyan','Naveen'])\n",
    "arr1>arr2"
   ]
  },
  {
   "cell_type": "code",
   "execution_count": 89,
   "id": "61b199c9",
   "metadata": {},
   "outputs": [
    {
     "data": {
      "text/plain": [
       "array([[ 0,  1,  2,  3],\n",
       "       [ 4,  5,  6,  7],\n",
       "       [ 8,  9, 10, 11]])"
      ]
     },
     "execution_count": 89,
     "metadata": {},
     "output_type": "execute_result"
    }
   ],
   "source": [
    "import numpy as np\n",
    "X = np.arange(12).reshape(3,4)\n",
    "X"
   ]
  },
  {
   "cell_type": "code",
   "execution_count": 94,
   "id": "9b6b3b0e",
   "metadata": {},
   "outputs": [
    {
     "data": {
      "text/plain": [
       "array([ 3,  7, 11])"
      ]
     },
     "execution_count": 94,
     "metadata": {},
     "output_type": "execute_result"
    }
   ],
   "source": [
    "X.max(axis=1)"
   ]
  },
  {
   "cell_type": "code",
   "execution_count": 96,
   "id": "3a4b0253",
   "metadata": {},
   "outputs": [
    {
     "data": {
      "text/plain": [
       "array([ 3,  7, 11])"
      ]
     },
     "execution_count": 96,
     "metadata": {},
     "output_type": "execute_result"
    }
   ],
   "source": [
    "X.T.max(axis=0)"
   ]
  },
  {
   "cell_type": "code",
   "execution_count": 97,
   "id": "c9ae6bb5",
   "metadata": {},
   "outputs": [
    {
     "data": {
      "text/plain": [
       "66"
      ]
     },
     "execution_count": 97,
     "metadata": {},
     "output_type": "execute_result"
    }
   ],
   "source": [
    "X.sum()"
   ]
  },
  {
   "cell_type": "code",
   "execution_count": 100,
   "id": "a3cd4ea7",
   "metadata": {},
   "outputs": [
    {
     "data": {
      "text/plain": [
       "[array([0, 1, 2, 3]), array([4, 5, 6, 7]), array([ 8,  9, 10, 11])]"
      ]
     },
     "execution_count": 100,
     "metadata": {},
     "output_type": "execute_result"
    }
   ],
   "source": [
    "[i for i in X]"
   ]
  },
  {
   "cell_type": "code",
   "execution_count": 101,
   "id": "4e8e5a09",
   "metadata": {},
   "outputs": [],
   "source": [
    "import numpy as np\n",
    "def sort_marks(arr2d, j):\n",
    "    '''Input: arr2d= a 2d python list.\n",
    "              j= integer representing the number of quiz according to which the marks need to be sorted.\n",
    "        Output: a 2d numpy array.'''\n",
    "\n",
    "    # Make sure that you are returning the output matrix simply inside this function.\n",
    "    \n",
    "    \n",
    "    ans = None\n",
    "    # YOUR CODE GOES HERE\n",
    "    \n",
    "    \n",
    "    return ans"
   ]
  },
  {
   "cell_type": "code",
   "execution_count": 126,
   "id": "9fb3d4f4",
   "metadata": {},
   "outputs": [],
   "source": [
    "import numpy as np\n",
    "\n",
    "def update_height(height,delta):\n",
    "    height = np.array(height)\n",
    "    delta = np.array(delta)\n",
    "    new_height = height+delta \n",
    "    return new_height"
   ]
  },
  {
   "cell_type": "code",
   "execution_count": 127,
   "id": "f95f5169",
   "metadata": {},
   "outputs": [
    {
     "data": {
      "text/plain": [
       "array([ 2,  4,  6,  6,  8, 10])"
      ]
     },
     "execution_count": 127,
     "metadata": {},
     "output_type": "execute_result"
    }
   ],
   "source": [
    "update_height([1, 2, 3, 5, 6, 7], [1, 2, 3, 1, 2, 3])"
   ]
  },
  {
   "cell_type": "code",
   "execution_count": 128,
   "id": "7ba59751",
   "metadata": {},
   "outputs": [],
   "source": [
    "def update_height(height, delta):\n",
    "    new_height=[]\n",
    "    for i in range(len(height)):\n",
    "        new_height.append(height[i]+delta[i])\n",
    "    return new_height"
   ]
  },
  {
   "cell_type": "code",
   "execution_count": 129,
   "id": "3ae5dc10",
   "metadata": {},
   "outputs": [
    {
     "data": {
      "text/plain": [
       "[2, 4, 6, 6, 8, 10]"
      ]
     },
     "execution_count": 129,
     "metadata": {},
     "output_type": "execute_result"
    }
   ],
   "source": [
    "update_height([1, 2, 3, 5, 6, 7], [1, 2, 3, 1, 2, 3])"
   ]
  },
  {
   "cell_type": "code",
   "execution_count": 130,
   "id": "086fa380",
   "metadata": {},
   "outputs": [
    {
     "name": "stdout",
     "output_type": "stream",
     "text": [
      "1.0\n"
     ]
    }
   ],
   "source": [
    "x = np.array([[200,200,200],[300,300,300],[400,400,400]])\n",
    "v = np.array([200,300,400])\n",
    "print((x / v[:,None])[1][1]) "
   ]
  },
  {
   "cell_type": "code",
   "execution_count": 132,
   "id": "7727e922",
   "metadata": {},
   "outputs": [
    {
     "name": "stdout",
     "output_type": "stream",
     "text": [
      "[[10 11 12]\n",
      " [20 21 22]\n",
      " [30 31 32]]\n"
     ]
    }
   ],
   "source": [
    "p = np.array([[0], [10], [20]])\n",
    "q = np.array([10, 11, 12]) \n",
    "print((p+q)) "
   ]
  },
  {
   "cell_type": "code",
   "execution_count": 144,
   "id": "43f0cb30",
   "metadata": {},
   "outputs": [
    {
     "name": "stdout",
     "output_type": "stream",
     "text": [
      "[[[ 0  1  2  3]]\n",
      "\n",
      " [[ 4  5  6  7]]\n",
      "\n",
      " [[ 8  9 10 11]]]\n"
     ]
    }
   ],
   "source": [
    "import numpy as np\n",
    "X = np.arange(12).reshape((3, 4))\n",
    "row = np.array([0, 1, 2])\n",
    "mask = np.array([1, 0, 1, 0], dtype=bool)\n",
    "print(X[row[:, np.newaxis]])\n"
   ]
  },
  {
   "cell_type": "code",
   "execution_count": 156,
   "id": "dbe91dd2",
   "metadata": {},
   "outputs": [],
   "source": [
    "import numpy as np\n",
    "def seq(start, length, step):\n",
    "    ''' start, length and step are in form of integers all representing the attributes as their names suggest\n",
    "        output -> A numpy array is expected to be returned'''\n",
    "\n",
    "    # YOUR CODE GOES HERE\n",
    "    result = np.arange(start, start + ( length * step), step)\n",
    "    return result"
   ]
  },
  {
   "cell_type": "code",
   "execution_count": 157,
   "id": "b41e124f",
   "metadata": {},
   "outputs": [
    {
     "data": {
      "text/plain": [
       "array([ 5,  8, 11, 14, 17, 20, 23, 26, 29, 32])"
      ]
     },
     "execution_count": 157,
     "metadata": {},
     "output_type": "execute_result"
    }
   ],
   "source": [
    "np.arange(5, 5 + ( 10 * 3), 3)\n",
    "# np.linspace(5, 5 + (10 * 3), 3, dtype='int')"
   ]
  },
  {
   "cell_type": "code",
   "execution_count": 158,
   "id": "46dfc281",
   "metadata": {},
   "outputs": [
    {
     "data": {
      "text/plain": [
       "array([ 5,  8, 11, 14, 17, 20, 23, 26, 29, 32])"
      ]
     },
     "execution_count": 158,
     "metadata": {},
     "output_type": "execute_result"
    }
   ],
   "source": [
    "seq(5, 10, 3)"
   ]
  },
  {
   "cell_type": "code",
   "execution_count": 159,
   "id": "60a623fa",
   "metadata": {},
   "outputs": [
    {
     "data": {
      "text/plain": [
       "array([[[0., 1., 2.],\n",
       "        [3., 4., 5.],\n",
       "        [6., 7., 8.]],\n",
       "\n",
       "       [[0., 1., 2.],\n",
       "        [3., 4., 5.],\n",
       "        [6., 7., 8.]],\n",
       "\n",
       "       [[0., 1., 2.],\n",
       "        [3., 4., 5.],\n",
       "        [6., 7., 8.]]])"
      ]
     },
     "execution_count": 159,
     "metadata": {},
     "output_type": "execute_result"
    }
   ],
   "source": [
    "a = np.zeros(27).reshape(3, 3, 3)\n",
    "b = np.arange(9).reshape(3, 3)\n",
    "a + b"
   ]
  },
  {
   "cell_type": "code",
   "execution_count": 160,
   "id": "a346b4e7",
   "metadata": {},
   "outputs": [
    {
     "data": {
      "text/plain": [
       "array([[[0., 1., 2.],\n",
       "        [3., 4., 5.],\n",
       "        [6., 7., 8.]],\n",
       "\n",
       "       [[0., 1., 2.],\n",
       "        [3., 4., 5.],\n",
       "        [6., 7., 8.]],\n",
       "\n",
       "       [[0., 1., 2.],\n",
       "        [3., 4., 5.],\n",
       "        [6., 7., 8.]]])"
      ]
     },
     "execution_count": 160,
     "metadata": {},
     "output_type": "execute_result"
    }
   ],
   "source": [
    "a + b[np.newaxis, :, :]"
   ]
  },
  {
   "cell_type": "code",
   "execution_count": 161,
   "id": "c45e0e7a",
   "metadata": {},
   "outputs": [
    {
     "data": {
      "text/plain": [
       "array([[[[0., 1., 2.],\n",
       "         [3., 4., 5.],\n",
       "         [6., 7., 8.]],\n",
       "\n",
       "        [[0., 1., 2.],\n",
       "         [3., 4., 5.],\n",
       "         [6., 7., 8.]],\n",
       "\n",
       "        [[0., 1., 2.],\n",
       "         [3., 4., 5.],\n",
       "         [6., 7., 8.]]]])"
      ]
     },
     "execution_count": 161,
     "metadata": {},
     "output_type": "execute_result"
    }
   ],
   "source": [
    "b + a[np.newaxis, :, :]"
   ]
  },
  {
   "cell_type": "code",
   "execution_count": 162,
   "id": "464fa3a9",
   "metadata": {},
   "outputs": [
    {
     "data": {
      "text/plain": [
       "array([[[0., 1., 2.],\n",
       "        [0., 1., 2.],\n",
       "        [0., 1., 2.]],\n",
       "\n",
       "       [[3., 4., 5.],\n",
       "        [3., 4., 5.],\n",
       "        [3., 4., 5.]],\n",
       "\n",
       "       [[6., 7., 8.],\n",
       "        [6., 7., 8.],\n",
       "        [6., 7., 8.]]])"
      ]
     },
     "execution_count": 162,
     "metadata": {},
     "output_type": "execute_result"
    }
   ],
   "source": [
    "a + b[:, np.newaxis, :]"
   ]
  },
  {
   "cell_type": "code",
   "execution_count": null,
   "id": "9be8a441",
   "metadata": {},
   "outputs": [],
   "source": []
  }
 ],
 "metadata": {
  "kernelspec": {
   "display_name": "Python 3 (ipykernel)",
   "language": "python",
   "name": "python3"
  },
  "language_info": {
   "codemirror_mode": {
    "name": "ipython",
    "version": 3
   },
   "file_extension": ".py",
   "mimetype": "text/x-python",
   "name": "python",
   "nbconvert_exporter": "python",
   "pygments_lexer": "ipython3",
   "version": "3.10.4"
  }
 },
 "nbformat": 4,
 "nbformat_minor": 5
}
