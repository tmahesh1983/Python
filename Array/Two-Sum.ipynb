{
 "cells": [
  {
   "cell_type": "markdown",
   "id": "1c2daa5c",
   "metadata": {},
   "source": [
    "## Target Sum pair"
   ]
  },
  {
   "cell_type": "code",
   "execution_count": 2,
   "id": "8fdce544",
   "metadata": {},
   "outputs": [],
   "source": [
    "from array import array"
   ]
  },
  {
   "cell_type": "code",
   "execution_count": 3,
   "id": "00e1ce3d",
   "metadata": {},
   "outputs": [
    {
     "data": {
      "text/plain": [
       "array('i', [1, 2, 4, 6, 7, 9, 10])"
      ]
     },
     "execution_count": 3,
     "metadata": {},
     "output_type": "execute_result"
    }
   ],
   "source": [
    "arr = array('i', [1, 2, 4, 6, 7, 9, 10])\n",
    "arr"
   ]
  },
  {
   "cell_type": "markdown",
   "id": "0a49b1f0",
   "metadata": {},
   "source": [
    "## Option1 - Brute Force \n",
    "#### O(n ^ 2)"
   ]
  },
  {
   "cell_type": "code",
   "execution_count": 4,
   "id": "fa61f30f",
   "metadata": {},
   "outputs": [],
   "source": [
    "def bruteFore(arr, target):\n",
    "    for i in range (0, len(arr)):\n",
    "        for j in range (i+1, len(arr)):\n",
    "            if arr[i] + arr[j] == target:\n",
    "                return True\n",
    "    return False        "
   ]
  },
  {
   "cell_type": "code",
   "execution_count": 5,
   "id": "f3d8fda8",
   "metadata": {},
   "outputs": [
    {
     "data": {
      "text/plain": [
       "array('i', [1, 2, 4, 6, 7, 9, 10])"
      ]
     },
     "execution_count": 5,
     "metadata": {},
     "output_type": "execute_result"
    }
   ],
   "source": [
    "arr = array('i', [1, 2, 4, 6, 7, 9, 10])\n",
    "arr"
   ]
  },
  {
   "cell_type": "code",
   "execution_count": 6,
   "id": "bd4b4e96",
   "metadata": {},
   "outputs": [
    {
     "data": {
      "text/plain": [
       "True"
      ]
     },
     "execution_count": 6,
     "metadata": {},
     "output_type": "execute_result"
    }
   ],
   "source": [
    "bruteFore(arr, 15)"
   ]
  },
  {
   "cell_type": "markdown",
   "id": "895feeda",
   "metadata": {},
   "source": [
    "## Option2 - Search\n",
    "#### O(n ^ 2)"
   ]
  },
  {
   "cell_type": "code",
   "execution_count": 7,
   "id": "0fc930b0",
   "metadata": {},
   "outputs": [],
   "source": [
    "def targetSum(arr, target):\n",
    "    for i in range (0, len(arr) -1):\n",
    "        first = arr[i]\n",
    "        second = target - first\n",
    "        \n",
    "        for j in range (i+1, len(arr)):\n",
    "            if arr[j] == second:\n",
    "                return True\n",
    "    return False        "
   ]
  },
  {
   "cell_type": "code",
   "execution_count": 8,
   "id": "c4a584fe",
   "metadata": {},
   "outputs": [
    {
     "data": {
      "text/plain": [
       "True"
      ]
     },
     "execution_count": 8,
     "metadata": {},
     "output_type": "execute_result"
    }
   ],
   "source": [
    "targetSum(arr, 15)"
   ]
  },
  {
   "cell_type": "markdown",
   "id": "2f848334",
   "metadata": {},
   "source": [
    "## Option3 - Binary Search (inner loop)\n",
    "#### O(n log n)"
   ]
  },
  {
   "cell_type": "code",
   "execution_count": null,
   "id": "cbf082a2",
   "metadata": {},
   "outputs": [],
   "source": []
  },
  {
   "cell_type": "markdown",
   "id": "f30c4079",
   "metadata": {},
   "source": [
    "## Option4 - Two pointers\n",
    "\n",
    "#### O(n)"
   ]
  },
  {
   "cell_type": "code",
   "execution_count": 9,
   "id": "edc73666",
   "metadata": {},
   "outputs": [],
   "source": [
    "def optTargetSum(arr, target):\n",
    "    low, high = 0, len(arr)-1\n",
    "    \n",
    "    while low < high:\n",
    "        if arr[low] + arr[high] == target:\n",
    "            return True\n",
    "        if arr[low] + arr[high] < target:\n",
    "            low += 1\n",
    "        else:\n",
    "            high -=1\n",
    "    return False"
   ]
  },
  {
   "cell_type": "code",
   "execution_count": 10,
   "id": "37d6ebc4",
   "metadata": {},
   "outputs": [
    {
     "data": {
      "text/plain": [
       "False"
      ]
     },
     "execution_count": 10,
     "metadata": {},
     "output_type": "execute_result"
    }
   ],
   "source": [
    "optTargetSum(arr, 20)"
   ]
  },
  {
   "cell_type": "markdown",
   "id": "c73c0856",
   "metadata": {},
   "source": [
    "## Unsorted Array"
   ]
  },
  {
   "cell_type": "code",
   "execution_count": 11,
   "id": "7971419f",
   "metadata": {},
   "outputs": [
    {
     "data": {
      "text/plain": [
       "array('i', [6, 4, 2, 1, 10, 9, 7])"
      ]
     },
     "execution_count": 11,
     "metadata": {},
     "output_type": "execute_result"
    }
   ],
   "source": [
    "arr = array('i', [6, 4, 2, 1, 10, 9, 7])\n",
    "arr"
   ]
  },
  {
   "cell_type": "code",
   "execution_count": 12,
   "id": "23b455a4",
   "metadata": {},
   "outputs": [],
   "source": [
    "def findPair(arr, target):\n",
    "    s = set()\n",
    "    \n",
    "    for ele in arr:\n",
    "        if (target - ele) in s:\n",
    "            return True\n",
    "        s.add(ele)\n",
    "    return False    "
   ]
  },
  {
   "cell_type": "code",
   "execution_count": 13,
   "id": "cac88b95",
   "metadata": {},
   "outputs": [
    {
     "data": {
      "text/plain": [
       "True"
      ]
     },
     "execution_count": 13,
     "metadata": {},
     "output_type": "execute_result"
    }
   ],
   "source": [
    "findPair(arr, 15)"
   ]
  },
  {
   "cell_type": "code",
   "execution_count": null,
   "id": "36fd64f8",
   "metadata": {},
   "outputs": [],
   "source": []
  }
 ],
 "metadata": {
  "kernelspec": {
   "display_name": "Python 3 (ipykernel)",
   "language": "python",
   "name": "python3"
  },
  "language_info": {
   "codemirror_mode": {
    "name": "ipython",
    "version": 3
   },
   "file_extension": ".py",
   "mimetype": "text/x-python",
   "name": "python",
   "nbconvert_exporter": "python",
   "pygments_lexer": "ipython3",
   "version": "3.10.4"
  }
 },
 "nbformat": 4,
 "nbformat_minor": 5
}
