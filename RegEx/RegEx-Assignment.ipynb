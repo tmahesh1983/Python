{
 "cells": [
  {
   "cell_type": "markdown",
   "id": "f1ca0da3",
   "metadata": {},
   "source": [
    "##### 1. Find all match"
   ]
  },
  {
   "cell_type": "code",
   "execution_count": 3,
   "id": "9618a517",
   "metadata": {},
   "outputs": [
    {
     "name": "stdout",
     "output_type": "stream",
     "text": [
      "['book', 'book', 'book']\n"
     ]
    }
   ],
   "source": [
    "import re \n",
    "text = '''The intellectual content in a physical book need not be a composition, nor even be called a book. Books can consist only of drawings, engravings or photographs, crossword puzzles or cut-out dolls. In a physical book, the pages can be left blank or can feature an abstract set of lines to support entries. '''\n",
    "print(re.findall('b..k', text))"
   ]
  },
  {
   "cell_type": "markdown",
   "id": "866981e8",
   "metadata": {},
   "source": [
    "#### 2. Find all match"
   ]
  },
  {
   "cell_type": "code",
   "execution_count": 2,
   "id": "e8e2b353",
   "metadata": {},
   "outputs": [
    {
     "data": {
      "text/plain": [
       "['peter', 'piper', 'picked a peck of pickled pepper']"
      ]
     },
     "execution_count": 2,
     "metadata": {},
     "output_type": "execute_result"
    }
   ],
   "source": [
    "import re\n",
    "sentence = 'peter piper picked a peck of pickled peppers'\n",
    "result = re.findall('p.*?e.*?r', sentence)\n",
    "result"
   ]
  },
  {
   "cell_type": "markdown",
   "id": "d16d8c9d",
   "metadata": {},
   "source": [
    "#### Find all and match"
   ]
  },
  {
   "cell_type": "code",
   "execution_count": 4,
   "id": "f5f1ebe4",
   "metadata": {},
   "outputs": [
    {
     "name": "stdout",
     "output_type": "stream",
     "text": [
      "None , ['Christmas Quote ']\n"
     ]
    }
   ],
   "source": [
    "import re \n",
    "text = ''' \n",
    "\"One cannot have enough socks with him\", said Dora. \n",
    "\"Another has come and gone and I didn't get a single pair. \n",
    "People will keep on insisting on giving me books.\" \n",
    "Christmas Quote \n",
    "''' \n",
    "regex = 'Christ.*' \n",
    "print(re.match(regex, text),\",\",re.findall(regex, text)) "
   ]
  },
  {
   "cell_type": "markdown",
   "id": "857f3219",
   "metadata": {},
   "source": [
    "#### Find All - III"
   ]
  },
  {
   "cell_type": "code",
   "execution_count": 6,
   "id": "14c39333",
   "metadata": {},
   "outputs": [
    {
     "data": {
      "text/plain": [
       "['$1', '$18087791.41', '$0.25', '$4521947.8525']"
      ]
     },
     "execution_count": 6,
     "metadata": {},
     "output_type": "execute_result"
    }
   ],
   "source": [
    "import re\n",
    "paragraph = '''\n",
    "An investment of  $1 in the year 1801,  would have given you $18087791.41 today.\n",
    "This is a 7.967% return on investment.\n",
    "But with an investment of only $0.25 in 1801, you would end up with $4521947.8525.\n",
    "'''\n",
    "result = [x[0] for x in re.findall('(\\$[0-9]+(\\.[0-9]*)?)', paragraph)]\n",
    "result"
   ]
  },
  {
   "cell_type": "markdown",
   "id": "77aba01f",
   "metadata": {},
   "source": [
    "#### Match the pattern"
   ]
  },
  {
   "cell_type": "code",
   "execution_count": 7,
   "id": "d2dc5dcb",
   "metadata": {},
   "outputs": [
    {
     "name": "stdout",
     "output_type": "stream",
     "text": [
      "None\n"
     ]
    }
   ],
   "source": [
    "import re \n",
    "sentence = \"cryptographic encryption methods that can be cracked easily with quantum computers\" \n",
    "pattern = re.compile(\"crypto(.{1,30})coin\")\n",
    "print(pattern.match(sentence)) "
   ]
  },
  {
   "cell_type": "markdown",
   "id": "7228e992",
   "metadata": {},
   "source": [
    "#### Output of the code"
   ]
  },
  {
   "cell_type": "code",
   "execution_count": 8,
   "id": "fbb70c40",
   "metadata": {},
   "outputs": [
    {
     "name": "stdout",
     "output_type": "stream",
     "text": [
      "DataScience12\n"
     ]
    }
   ],
   "source": [
    "import re\n",
    "text1 = '**//DataScience// - 12. '\n",
    "pattern = re.compile('[\\W_]+')\n",
    "print(pattern.sub('', text1))"
   ]
  },
  {
   "cell_type": "markdown",
   "id": "3baaf1e6",
   "metadata": {},
   "source": [
    "#### Convert the format"
   ]
  },
  {
   "cell_type": "code",
   "execution_count": 10,
   "id": "0ffbe2b7",
   "metadata": {},
   "outputs": [
    {
     "name": "stdout",
     "output_type": "stream",
     "text": [
      "The Date is 02-01-2020\n"
     ]
    }
   ],
   "source": [
    "import re\n",
    "def change_format(date):\n",
    "    return re.sub(r'(\\d{4})-(\\d{1,2})-(\\d{1,2})', '\\\\3-\\\\2-\\\\1', date)\n",
    "date1 = \"The Date is 2020-01-02\"\n",
    "print(change_format(date1))"
   ]
  },
  {
   "cell_type": "markdown",
   "id": "9a78f598",
   "metadata": {},
   "source": [
    "#### Span()"
   ]
  },
  {
   "cell_type": "code",
   "execution_count": 11,
   "id": "20b95aed",
   "metadata": {},
   "outputs": [
    {
     "name": "stdout",
     "output_type": "stream",
     "text": [
      "(8, 10)\n"
     ]
    }
   ],
   "source": [
    "import re\n",
    "sentence = 'cheetah is faster than a leopard'\n",
    "matched = re.search('is', sentence)\n",
    "print(matched.span())"
   ]
  },
  {
   "cell_type": "markdown",
   "id": "b869f7cd",
   "metadata": {},
   "source": [
    "#### Match the outputs"
   ]
  },
  {
   "cell_type": "code",
   "execution_count": 16,
   "id": "e9a51663",
   "metadata": {},
   "outputs": [
    {
     "name": "stdout",
     "output_type": "stream",
     "text": [
      "[]\n"
     ]
    }
   ],
   "source": [
    "print(re.findall('a{3,5}b', 'aba'))"
   ]
  },
  {
   "cell_type": "code",
   "execution_count": 17,
   "id": "40a671d9",
   "metadata": {},
   "outputs": [
    {
     "name": "stdout",
     "output_type": "stream",
     "text": [
      "['aaab']\n"
     ]
    }
   ],
   "source": [
    "print(re.findall('a{3,5}b', 'aaabaa'))"
   ]
  },
  {
   "cell_type": "code",
   "execution_count": 18,
   "id": "1f63ac40",
   "metadata": {},
   "outputs": [
    {
     "name": "stdout",
     "output_type": "stream",
     "text": [
      "['aaaaab']\n"
     ]
    }
   ],
   "source": [
    "print(re.findall('a{3,5}b', 'aaaaab'))"
   ]
  },
  {
   "cell_type": "code",
   "execution_count": 19,
   "id": "0521747b",
   "metadata": {},
   "outputs": [
    {
     "name": "stdout",
     "output_type": "stream",
     "text": [
      "['aaaaab']\n"
     ]
    }
   ],
   "source": [
    "print(re.findall('a{3,5}b', 'aaaaab'))"
   ]
  },
  {
   "cell_type": "code",
   "execution_count": 20,
   "id": "3858815b",
   "metadata": {},
   "outputs": [
    {
     "name": "stdout",
     "output_type": "stream",
     "text": [
      "['aaaaab']\n"
     ]
    }
   ],
   "source": [
    "print(re.findall('a{3,5}b', 'aaaaaab'))"
   ]
  },
  {
   "cell_type": "markdown",
   "id": "c10df2d0",
   "metadata": {},
   "source": [
    "#### Choose the correct output"
   ]
  },
  {
   "cell_type": "code",
   "execution_count": 37,
   "id": "9aed6ddf",
   "metadata": {},
   "outputs": [
    {
     "name": "stdout",
     "output_type": "stream",
     "text": [
      "True True False False False True "
     ]
    }
   ],
   "source": [
    "import re \n",
    "new_input = ['18:29', '23:55', '123', 'ab:de', '18:299', '99:99']\n",
    "results = lambda x: re.fullmatch('[0-9]{2}:[0-9]{2}', x) != None\n",
    "for x in new_input:\n",
    "    print(results(x),end=\" \")"
   ]
  },
  {
   "cell_type": "markdown",
   "id": "fe59270c",
   "metadata": {},
   "source": [
    "#### Value of 'a'"
   ]
  },
  {
   "cell_type": "code",
   "execution_count": 23,
   "id": "58f7fb6f",
   "metadata": {},
   "outputs": [
    {
     "data": {
      "text/plain": [
       "'Machine Learning'"
      ]
     },
     "execution_count": 23,
     "metadata": {},
     "output_type": "execute_result"
    }
   ],
   "source": [
    "import re\n",
    "a = re.sub(r\" ?\\([^)]+\\)\", \"\",\"Machine Learning (.com)\")\n",
    "a"
   ]
  },
  {
   "cell_type": "markdown",
   "id": "a62408f7",
   "metadata": {},
   "source": [
    "#### Remove space"
   ]
  },
  {
   "cell_type": "code",
   "execution_count": 28,
   "id": "2dc43da1",
   "metadata": {},
   "outputs": [
    {
     "data": {
      "text/plain": [
       "'Kennybought420rsbiscuit. Hegot180rsbill.'"
      ]
     },
     "execution_count": 28,
     "metadata": {},
     "output_type": "execute_result"
    }
   ],
   "source": [
    "import re\n",
    "txt = \"Kenny bought 4 20rs biscuit. He got 1 80rs bill.\"\n",
    "new_txt = re.sub(r\"(?<=\\w)\\s(?=\\w)\", '', txt) #blank\n",
    "new_txt"
   ]
  },
  {
   "cell_type": "markdown",
   "id": "47aaba59",
   "metadata": {},
   "source": [
    "#### finditer"
   ]
  },
  {
   "cell_type": "code",
   "execution_count": 30,
   "id": "3dbf1884",
   "metadata": {},
   "outputs": [
    {
     "name": "stdout",
     "output_type": "stream",
     "text": [
      "44:52 62:70 "
     ]
    }
   ],
   "source": [
    "import re\n",
    "s1 = 'Artificial Intelligence consists of Machine Learning and Deep Learning'\n",
    "pattern = 'Learning'\n",
    "for match in re.finditer(pattern, s1):\n",
    "    s = match.start()\n",
    "    e = match.end()\n",
    "    print('%d:%d'%(s, e),end=\" \")"
   ]
  },
  {
   "cell_type": "markdown",
   "id": "f2820d28",
   "metadata": {},
   "source": [
    "####  findall() and finditer()"
   ]
  },
  {
   "cell_type": "code",
   "execution_count": 31,
   "id": "3ee5ae36",
   "metadata": {},
   "outputs": [
    {
     "name": "stdout",
     "output_type": "stream",
     "text": [
      "www.scaler.com\n",
      "scaler\n"
     ]
    }
   ],
   "source": [
    "import re\n",
    "text = ''' Extract the doamin from the urls www.scaler.com'''\n",
    "pattern = r'(www.([A-Za-z_0-9-]+)(.\\w+))'\n",
    "find_iter_result = re.finditer(pattern, text)\n",
    "for i in find_iter_result:\n",
    "    print(i.group())     #output1\n",
    "\n",
    "find_all_result = re.findall(pattern, text)\n",
    "for i in find_all_result:\n",
    "    print(i[1])          #output2"
   ]
  },
  {
   "cell_type": "markdown",
   "id": "0e3c3eb7",
   "metadata": {},
   "source": [
    "#### Match objects"
   ]
  },
  {
   "cell_type": "code",
   "execution_count": 32,
   "id": "b4d2b3a3",
   "metadata": {},
   "outputs": [
    {
     "name": "stdout",
     "output_type": "stream",
     "text": [
      "17 19 93 11 26 12 51 "
     ]
    }
   ],
   "source": [
    "import re\n",
    "target_string = \"Emma is a basketball player who was born on June 17, 1993. She played 112 matches with a scoring average of 26.12 points per game. Her weight is 51 kg.\"\n",
    "result = re.finditer(r\"\\d{2}\", target_string)\n",
    "for match_obj in result:\n",
    "    print(match_obj.group(),end=\" \")"
   ]
  },
  {
   "cell_type": "markdown",
   "id": "bed15fec",
   "metadata": {},
   "source": [
    "#### Correct about statements"
   ]
  },
  {
   "cell_type": "code",
   "execution_count": 34,
   "id": "c3fbd23d",
   "metadata": {},
   "outputs": [
    {
     "data": {
      "text/plain": [
       "[]"
      ]
     },
     "execution_count": 34,
     "metadata": {},
     "output_type": "execute_result"
    }
   ],
   "source": [
    "re.findall(\"([a-zA-Z0-9_.+-]+@[a-zA-Z0-9-]+\\.[a-zA-Z0-9-.]+)\", \"sen\")"
   ]
  },
  {
   "cell_type": "markdown",
   "id": "d3a11934",
   "metadata": {},
   "source": [
    "#### Postal code validation"
   ]
  },
  {
   "cell_type": "code",
   "execution_count": 168,
   "id": "2c6c60bb",
   "metadata": {},
   "outputs": [],
   "source": [
    "import re\n",
    "def postal(code):\n",
    "    '''code is a string\n",
    "       Output -> True/False is expected to be returned'''\n",
    "\n",
    "    # YOUR CODE GOES HERE\n",
    "    result = re.findall('(\\d)(?=\\d\\1)', code)   \n",
    "    print(result)\n",
    "    if result != None:\n",
    "        return True\n",
    "    else:\n",
    "        return False"
   ]
  },
  {
   "cell_type": "code",
   "execution_count": 169,
   "id": "0460727e",
   "metadata": {},
   "outputs": [
    {
     "name": "stdout",
     "output_type": "stream",
     "text": [
      "[]\n"
     ]
    },
    {
     "data": {
      "text/plain": [
       "True"
      ]
     },
     "execution_count": 169,
     "metadata": {},
     "output_type": "execute_result"
    }
   ],
   "source": [
    "postal('123456')"
   ]
  },
  {
   "cell_type": "markdown",
   "id": "5f8f4de2",
   "metadata": {},
   "source": [
    "#### Validate debit card"
   ]
  },
  {
   "cell_type": "code",
   "execution_count": 143,
   "id": "cac24019",
   "metadata": {},
   "outputs": [],
   "source": [
    "import re\n",
    "def card(x):\n",
    "    '''\n",
    "    Input x : 16 digit number\n",
    "    Ouput:  Return whether its a valid debit card number or not\n",
    "    '''\n",
    "    # YOUR CODE GOES HERE\n",
    "    result = re.search('^[456]\\d{15}$', x)\n",
    "    print(result)\n",
    "    if result != None:\n",
    "        return 'Valid'\n",
    "    else:\n",
    "        return 'Invalid'"
   ]
  },
  {
   "cell_type": "code",
   "execution_count": 144,
   "id": "861b0023",
   "metadata": {},
   "outputs": [
    {
     "name": "stdout",
     "output_type": "stream",
     "text": [
      "<re.Match object; span=(0, 16), match='4245647893112578'>\n"
     ]
    },
    {
     "data": {
      "text/plain": [
       "'Valid'"
      ]
     },
     "execution_count": 144,
     "metadata": {},
     "output_type": "execute_result"
    }
   ],
   "source": [
    "card('4245647893112578')"
   ]
  },
  {
   "cell_type": "code",
   "execution_count": null,
   "id": "51caaade",
   "metadata": {},
   "outputs": [],
   "source": []
  }
 ],
 "metadata": {
  "kernelspec": {
   "display_name": "Python 3 (ipykernel)",
   "language": "python",
   "name": "python3"
  },
  "language_info": {
   "codemirror_mode": {
    "name": "ipython",
    "version": 3
   },
   "file_extension": ".py",
   "mimetype": "text/x-python",
   "name": "python",
   "nbconvert_exporter": "python",
   "pygments_lexer": "ipython3",
   "version": "3.10.4"
  }
 },
 "nbformat": 4,
 "nbformat_minor": 5
}
