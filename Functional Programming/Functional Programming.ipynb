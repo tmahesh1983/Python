{
 "cells": [
  {
   "cell_type": "markdown",
   "id": "25e1d2de",
   "metadata": {},
   "source": [
    "## Functional Programming\n",
    "\n",
    "* It is anonymous function\n",
    "* Syntax\n",
    "    * lambda input : output\n",
    "* To call ananymous function\n",
    "    * Without storing on the fly you can call (lambda input : output) (argument)\n",
    "    \n",
    "#### Conditions of Functional programming\n",
    "\n",
    "1. Data & Mutation(ops)\n",
    "2. Data to be immutable\n",
    "3. Functions are first class citizen \n",
    "    (Also this is called higher order function, when a function takes argument as another function/return \n",
    "     another function is called higher order function)\n",
    "\n",
    "### Inbuilt functional programs\n",
    "1. Map\n",
    "    * syntax: map(mutation, data)\n",
    "2. Filter\n",
    "3. Reduce\n",
    "4. Zip ...\n",
    "    \n",
    "### Why Lambda function\n",
    "* When the function going to be used very short span of time, we can go with lambda function\n",
    "    \n",
    "    * syntax: lambda arguments : expression"
   ]
  },
  {
   "cell_type": "markdown",
   "id": "782464e8",
   "metadata": {},
   "source": [
    "#### Example 1"
   ]
  },
  {
   "cell_type": "code",
   "execution_count": 1,
   "id": "9bcbebcd",
   "metadata": {},
   "outputs": [
    {
     "data": {
      "text/plain": [
       "16"
      ]
     },
     "execution_count": 1,
     "metadata": {},
     "output_type": "execute_result"
    }
   ],
   "source": [
    "(lambda x : x ** 2)(4)"
   ]
  },
  {
   "cell_type": "code",
   "execution_count": 2,
   "id": "7f76a847",
   "metadata": {},
   "outputs": [],
   "source": [
    "abc = lambda x : x ** 2"
   ]
  },
  {
   "cell_type": "code",
   "execution_count": 3,
   "id": "8bc20f83",
   "metadata": {},
   "outputs": [
    {
     "data": {
      "text/plain": [
       "9"
      ]
     },
     "execution_count": 3,
     "metadata": {},
     "output_type": "execute_result"
    }
   ],
   "source": [
    "abc (3)"
   ]
  },
  {
   "cell_type": "code",
   "execution_count": 5,
   "id": "1562b968",
   "metadata": {},
   "outputs": [
    {
     "data": {
      "text/plain": [
       "0"
      ]
     },
     "execution_count": 5,
     "metadata": {},
     "output_type": "execute_result"
    }
   ],
   "source": [
    "result = lambda num : num % 2\n",
    "result(6)"
   ]
  },
  {
   "cell_type": "markdown",
   "id": "21d023e5",
   "metadata": {},
   "source": [
    "#### Example 2"
   ]
  },
  {
   "cell_type": "code",
   "execution_count": 6,
   "id": "6993aa38",
   "metadata": {},
   "outputs": [],
   "source": [
    "mul = lambda x, y : x * y"
   ]
  },
  {
   "cell_type": "code",
   "execution_count": 7,
   "id": "3523c2a4",
   "metadata": {},
   "outputs": [
    {
     "data": {
      "text/plain": [
       "200"
      ]
     },
     "execution_count": 7,
     "metadata": {},
     "output_type": "execute_result"
    }
   ],
   "source": [
    "mul(10, 20)"
   ]
  },
  {
   "cell_type": "markdown",
   "id": "120d12f3",
   "metadata": {},
   "source": [
    "## Returning entire function"
   ]
  },
  {
   "cell_type": "code",
   "execution_count": 10,
   "id": "b5b5390a",
   "metadata": {},
   "outputs": [],
   "source": [
    "def outer():\n",
    "    num = 6\n",
    "    \n",
    "    def inner(x):\n",
    "        return x + num\n",
    "    return inner"
   ]
  },
  {
   "cell_type": "code",
   "execution_count": 11,
   "id": "ef01cfba",
   "metadata": {},
   "outputs": [],
   "source": [
    "inn = outer()"
   ]
  },
  {
   "cell_type": "code",
   "execution_count": 12,
   "id": "24c25cb1",
   "metadata": {},
   "outputs": [
    {
     "data": {
      "text/plain": [
       "12"
      ]
     },
     "execution_count": 12,
     "metadata": {},
     "output_type": "execute_result"
    }
   ],
   "source": [
    "inn(6)"
   ]
  },
  {
   "cell_type": "markdown",
   "id": "8f7774c2",
   "metadata": {},
   "source": [
    "## No return statement in lambda statement"
   ]
  },
  {
   "cell_type": "code",
   "execution_count": 15,
   "id": "3e3e0766",
   "metadata": {},
   "outputs": [
    {
     "ename": "SyntaxError",
     "evalue": "invalid syntax (1192663500.py, line 1)",
     "output_type": "error",
     "traceback": [
      "\u001b[1;36m  Input \u001b[1;32mIn [15]\u001b[1;36m\u001b[0m\n\u001b[1;33m    func = lambda x : return x\u001b[0m\n\u001b[1;37m                      ^\u001b[0m\n\u001b[1;31mSyntaxError\u001b[0m\u001b[1;31m:\u001b[0m invalid syntax\n"
     ]
    }
   ],
   "source": [
    "func = lambda x : return x\n",
    "print(func(2))"
   ]
  },
  {
   "cell_type": "markdown",
   "id": "8b7fcdbd",
   "metadata": {},
   "source": [
    "## Returning function and utilizing dynamically"
   ]
  },
  {
   "cell_type": "code",
   "execution_count": 16,
   "id": "123f7016",
   "metadata": {},
   "outputs": [],
   "source": [
    "def nth_multiple(n):\n",
    "    return lambda x: x * n"
   ]
  },
  {
   "cell_type": "code",
   "execution_count": 18,
   "id": "a4d639fa",
   "metadata": {},
   "outputs": [
    {
     "data": {
      "text/plain": [
       "10"
      ]
     },
     "execution_count": 18,
     "metadata": {},
     "output_type": "execute_result"
    }
   ],
   "source": [
    "nth_multiple_5 = nth_multiple(5)\n",
    "nth_multiple_5(2)"
   ]
  },
  {
   "cell_type": "code",
   "execution_count": 19,
   "id": "99992434",
   "metadata": {},
   "outputs": [
    {
     "data": {
      "text/plain": [
       "12"
      ]
     },
     "execution_count": 19,
     "metadata": {},
     "output_type": "execute_result"
    }
   ],
   "source": [
    "nth_multiple_6 = nth_multiple(6)\n",
    "nth_multiple_6(2)"
   ]
  },
  {
   "cell_type": "markdown",
   "id": "29e7935c",
   "metadata": {},
   "source": [
    "## Map"
   ]
  },
  {
   "cell_type": "code",
   "execution_count": 24,
   "id": "ed688d32",
   "metadata": {},
   "outputs": [],
   "source": [
    "# Syntax :  map(mutation, data)"
   ]
  },
  {
   "cell_type": "code",
   "execution_count": 25,
   "id": "340a5cfb",
   "metadata": {},
   "outputs": [],
   "source": [
    "list1 = [1, 2, 3, 4, 5]"
   ]
  },
  {
   "cell_type": "markdown",
   "id": "7b971e1c",
   "metadata": {},
   "source": [
    "### Example 1"
   ]
  },
  {
   "cell_type": "markdown",
   "id": "09fbf15a",
   "metadata": {},
   "source": [
    "#### Approach 1"
   ]
  },
  {
   "cell_type": "code",
   "execution_count": 26,
   "id": "450f98a9",
   "metadata": {},
   "outputs": [],
   "source": [
    "def mul(x):\n",
    "    return 2 * x"
   ]
  },
  {
   "cell_type": "code",
   "execution_count": 27,
   "id": "1c24b31f",
   "metadata": {},
   "outputs": [
    {
     "data": {
      "text/plain": [
       "[2, 4, 6, 8, 10]"
      ]
     },
     "execution_count": 27,
     "metadata": {},
     "output_type": "execute_result"
    }
   ],
   "source": [
    "m = map(mul, list1)\n",
    "list(m)"
   ]
  },
  {
   "cell_type": "markdown",
   "id": "5730454a",
   "metadata": {},
   "source": [
    "#### Approach 2"
   ]
  },
  {
   "cell_type": "code",
   "execution_count": 29,
   "id": "c8d482ff",
   "metadata": {},
   "outputs": [
    {
     "data": {
      "text/plain": [
       "[2, 4, 6, 8, 10]"
      ]
     },
     "execution_count": 29,
     "metadata": {},
     "output_type": "execute_result"
    }
   ],
   "source": [
    "m = map(lambda x: 2 * x, list1)\n",
    "list(m)"
   ]
  },
  {
   "cell_type": "markdown",
   "id": "86a0241e",
   "metadata": {},
   "source": [
    "### Example 2"
   ]
  },
  {
   "cell_type": "code",
   "execution_count": 32,
   "id": "0382eb86",
   "metadata": {},
   "outputs": [
    {
     "data": {
      "text/plain": [
       "['I think', 'We are good']"
      ]
     },
     "execution_count": 32,
     "metadata": {},
     "output_type": "execute_result"
    }
   ],
   "source": [
    "data = ['I think', 'We are good']\n",
    "data"
   ]
  },
  {
   "cell_type": "code",
   "execution_count": 34,
   "id": "0a51a71c",
   "metadata": {},
   "outputs": [
    {
     "data": {
      "text/plain": [
       "['I think xyz', 'We are good xyz']"
      ]
     },
     "execution_count": 34,
     "metadata": {},
     "output_type": "execute_result"
    }
   ],
   "source": [
    "list(map(lambda x : x + ' xyz', data))"
   ]
  },
  {
   "cell_type": "markdown",
   "id": "f3ffdc37",
   "metadata": {},
   "source": [
    "### Example 3"
   ]
  },
  {
   "cell_type": "code",
   "execution_count": 35,
   "id": "cc73cd06",
   "metadata": {},
   "outputs": [
    {
     "data": {
      "text/plain": [
       "[10, 20, 30, 40, 50]"
      ]
     },
     "execution_count": 35,
     "metadata": {},
     "output_type": "execute_result"
    }
   ],
   "source": [
    "values = [10, 20, 30, 40, 50]\n",
    "values"
   ]
  },
  {
   "cell_type": "code",
   "execution_count": 36,
   "id": "0fa16fbf",
   "metadata": {},
   "outputs": [
    {
     "data": {
      "text/plain": [
       "[20, 30, 40, 50, 60]"
      ]
     },
     "execution_count": 36,
     "metadata": {},
     "output_type": "execute_result"
    }
   ],
   "source": [
    "list(map(lambda x : x + 10, values))"
   ]
  },
  {
   "cell_type": "markdown",
   "id": "65b209f8",
   "metadata": {},
   "source": [
    "### Example 4\n",
    "\n",
    "Find T-Shirt size based on height\n",
    "\n",
    "* < 150 : S\n",
    "* 150 - 170 : M\n",
    "* 180 : L"
   ]
  },
  {
   "cell_type": "code",
   "execution_count": 57,
   "id": "56400dbe",
   "metadata": {},
   "outputs": [],
   "source": [
    "def findSize(height):\n",
    "    if height < 150 :\n",
    "        return 'S'\n",
    "    elif (height >= 150) and (height < 180):\n",
    "        return 'M'\n",
    "    elif height >= 180:\n",
    "        return 'L'"
   ]
  },
  {
   "cell_type": "code",
   "execution_count": 58,
   "id": "face9a9f",
   "metadata": {},
   "outputs": [
    {
     "data": {
      "text/plain": [
       "['M', 'L', 'M', 'L', 'L', 'M', 'S']"
      ]
     },
     "execution_count": 58,
     "metadata": {},
     "output_type": "execute_result"
    }
   ],
   "source": [
    "heights = [152, 182, 170, 181, 180, 172, 146]\n",
    "t_shirt_size = list(map(findSize, heights))\n",
    "t_shirt_size"
   ]
  },
  {
   "cell_type": "markdown",
   "id": "609f9c93",
   "metadata": {},
   "source": [
    "### Example 5"
   ]
  },
  {
   "cell_type": "code",
   "execution_count": 62,
   "id": "f6b84032",
   "metadata": {},
   "outputs": [
    {
     "name": "stdout",
     "output_type": "stream",
     "text": [
      "6\n"
     ]
    }
   ],
   "source": [
    "A = [1, 0, 1, 1, 0, 1, 0, 0, 1, 1]\n",
    "B = [1, 0, 1, 0, 1, 0, 0, 0, 1, 0]\n",
    "A = list(map(lambda x, y : x == y, A, B))\n",
    "\n",
    "# map(mutation, data)\n",
    "\n",
    "print(sum(A))"
   ]
  },
  {
   "cell_type": "markdown",
   "id": "4a25c8f0",
   "metadata": {},
   "source": [
    "## Filter"
   ]
  },
  {
   "cell_type": "markdown",
   "id": "38caac49",
   "metadata": {},
   "source": [
    "### Example 1 - starts with"
   ]
  },
  {
   "cell_type": "code",
   "execution_count": 67,
   "id": "5eaba26a",
   "metadata": {},
   "outputs": [
    {
     "data": {
      "text/plain": [
       "['I think', 'We are good']"
      ]
     },
     "execution_count": 67,
     "metadata": {},
     "output_type": "execute_result"
    }
   ],
   "source": [
    "data = ['I think', 'We are good']\n",
    "data"
   ]
  },
  {
   "cell_type": "code",
   "execution_count": 68,
   "id": "7c50fa8a",
   "metadata": {},
   "outputs": [
    {
     "data": {
      "text/plain": [
       "['I think']"
      ]
     },
     "execution_count": 68,
     "metadata": {},
     "output_type": "execute_result"
    }
   ],
   "source": [
    "list(filter ( lambda x : x.startswith('I'), data ))"
   ]
  },
  {
   "cell_type": "markdown",
   "id": "016d7456",
   "metadata": {},
   "source": [
    "### Example 2 Filter only even numbers"
   ]
  },
  {
   "cell_type": "code",
   "execution_count": 69,
   "id": "4879daa8",
   "metadata": {},
   "outputs": [
    {
     "data": {
      "text/plain": [
       "[4, 5, 7, 9, 19, 14]"
      ]
     },
     "execution_count": 69,
     "metadata": {},
     "output_type": "execute_result"
    }
   ],
   "source": [
    "lst = [4, 5, 7, 9, 19, 14]\n",
    "lst"
   ]
  },
  {
   "cell_type": "code",
   "execution_count": 70,
   "id": "a1e4f735",
   "metadata": {},
   "outputs": [
    {
     "data": {
      "text/plain": [
       "[4, 14]"
      ]
     },
     "execution_count": 70,
     "metadata": {},
     "output_type": "execute_result"
    }
   ],
   "source": [
    "list(filter(lambda x : x % 2 == 0, lst))"
   ]
  },
  {
   "cell_type": "markdown",
   "id": "6ce649fe",
   "metadata": {},
   "source": [
    "### Example"
   ]
  },
  {
   "cell_type": "code",
   "execution_count": 72,
   "id": "8f273a80",
   "metadata": {},
   "outputs": [
    {
     "name": "stdout",
     "output_type": "stream",
     "text": [
      "[1, 'a', True, '0']\n"
     ]
    }
   ],
   "source": [
    "random = [1, 'a', 0, False, True, '0']\n",
    "filtered_iterator = filter(None, random)\n",
    "filtered_list = list(filtered_iterator)\n",
    "print(filtered_list)"
   ]
  },
  {
   "cell_type": "markdown",
   "id": "988c313e",
   "metadata": {},
   "source": [
    "## Reduce"
   ]
  },
  {
   "cell_type": "markdown",
   "id": "bcbe101b",
   "metadata": {},
   "source": [
    "### Example 1"
   ]
  },
  {
   "cell_type": "code",
   "execution_count": 73,
   "id": "5f55c9ad",
   "metadata": {},
   "outputs": [],
   "source": [
    "lis = [1, 4, 3, 2, 5]"
   ]
  },
  {
   "cell_type": "code",
   "execution_count": 74,
   "id": "ed061b5a",
   "metadata": {},
   "outputs": [],
   "source": [
    "from functools import reduce"
   ]
  },
  {
   "cell_type": "code",
   "execution_count": 76,
   "id": "9fb3fbb4",
   "metadata": {},
   "outputs": [
    {
     "data": {
      "text/plain": [
       "15"
      ]
     },
     "execution_count": 76,
     "metadata": {},
     "output_type": "execute_result"
    }
   ],
   "source": [
    "reduce(lambda x,y: x+y, lis)"
   ]
  },
  {
   "cell_type": "markdown",
   "id": "3a9c376a",
   "metadata": {},
   "source": [
    "### Example 2"
   ]
  },
  {
   "cell_type": "code",
   "execution_count": 77,
   "id": "320cb10d",
   "metadata": {},
   "outputs": [
    {
     "data": {
      "text/plain": [
       "True"
      ]
     },
     "execution_count": 77,
     "metadata": {},
     "output_type": "execute_result"
    }
   ],
   "source": [
    "A = list(range(1, 11))\n",
    "B = reversed(A)\n",
    "\n",
    "reduce(lambda x, y : x * y, A) == reduce(lambda a, b : a * b, B)"
   ]
  },
  {
   "cell_type": "markdown",
   "id": "d5cd235f",
   "metadata": {},
   "source": [
    "## Sorted & lambda function"
   ]
  },
  {
   "cell_type": "code",
   "execution_count": 78,
   "id": "8ee766c8",
   "metadata": {},
   "outputs": [
    {
     "data": {
      "text/plain": [
       "[('Mahesh', 67), ('John', 98), ('Riya', 73)]"
      ]
     },
     "execution_count": 78,
     "metadata": {},
     "output_type": "execute_result"
    }
   ],
   "source": [
    "data = [('Mahesh', 67), ('John', 98), ('Riya', 73)]\n",
    "data"
   ]
  },
  {
   "cell_type": "code",
   "execution_count": 79,
   "id": "f29e3a8f",
   "metadata": {},
   "outputs": [
    {
     "data": {
      "text/plain": [
       "[('John', 98), ('Mahesh', 67), ('Riya', 73)]"
      ]
     },
     "execution_count": 79,
     "metadata": {},
     "output_type": "execute_result"
    }
   ],
   "source": [
    "sorted(data)"
   ]
  },
  {
   "cell_type": "code",
   "execution_count": 80,
   "id": "3ee68457",
   "metadata": {},
   "outputs": [
    {
     "data": {
      "text/plain": [
       "[('Mahesh', 67), ('Riya', 73), ('John', 98)]"
      ]
     },
     "execution_count": 80,
     "metadata": {},
     "output_type": "execute_result"
    }
   ],
   "source": [
    "sorted(data, key = lambda x : x[1])"
   ]
  },
  {
   "cell_type": "code",
   "execution_count": 81,
   "id": "4df42840",
   "metadata": {},
   "outputs": [
    {
     "data": {
      "text/plain": [
       "[('John', 98), ('Riya', 73), ('Mahesh', 67)]"
      ]
     },
     "execution_count": 81,
     "metadata": {},
     "output_type": "execute_result"
    }
   ],
   "source": [
    "sorted(data, key = lambda x : x[1], reverse=True)"
   ]
  },
  {
   "cell_type": "markdown",
   "id": "bb2990e9",
   "metadata": {},
   "source": [
    "### Max & lambda function"
   ]
  },
  {
   "cell_type": "code",
   "execution_count": 82,
   "id": "5a4f4ad0",
   "metadata": {},
   "outputs": [],
   "source": [
    "lst = [[1, 3], [-4, -1]]"
   ]
  },
  {
   "cell_type": "code",
   "execution_count": 83,
   "id": "3f075675",
   "metadata": {},
   "outputs": [
    {
     "data": {
      "text/plain": [
       "[-4, -1]"
      ]
     },
     "execution_count": 83,
     "metadata": {},
     "output_type": "execute_result"
    }
   ],
   "source": [
    "max(lst, key = lambda x: x[0] * x[1])"
   ]
  },
  {
   "cell_type": "markdown",
   "id": "0b60250c",
   "metadata": {},
   "source": [
    "## Filter, Map & Reduce together\n",
    "\n",
    "#### 1. Remove invalida measurements (inches can't be -ve)\n",
    "#### 2. Convert inches to cm -> 1 inch = 2.4 cm\n",
    "#### 3. product of all inches"
   ]
  },
  {
   "cell_type": "code",
   "execution_count": 85,
   "id": "09dc1a3c",
   "metadata": {},
   "outputs": [
    {
     "data": {
      "text/plain": [
       "[2.3, 1.5, -1.2, 0, 4.5]"
      ]
     },
     "execution_count": 85,
     "metadata": {},
     "output_type": "execute_result"
    }
   ],
   "source": [
    "inches = [2.3, 1.5, -1.2, 0, 4.5]\n",
    "inches"
   ]
  },
  {
   "cell_type": "code",
   "execution_count": 94,
   "id": "1ea38f47",
   "metadata": {},
   "outputs": [
    {
     "data": {
      "text/plain": [
       "[2.3, 1.5, 4.5]"
      ]
     },
     "execution_count": 94,
     "metadata": {},
     "output_type": "execute_result"
    }
   ],
   "source": [
    "filtered_list = list(filter(lambda x : x > 0, inches))\n",
    "filtered_list"
   ]
  },
  {
   "cell_type": "code",
   "execution_count": 95,
   "id": "2b99a60a",
   "metadata": {},
   "outputs": [
    {
     "data": {
      "text/plain": [
       "[5.52, 3.5999999999999996, 10.799999999999999]"
      ]
     },
     "execution_count": 95,
     "metadata": {},
     "output_type": "execute_result"
    }
   ],
   "source": [
    "cm_list = list(map(lambda x : x * 2.4, filtered_list))\n",
    "cm_list"
   ]
  },
  {
   "cell_type": "code",
   "execution_count": 96,
   "id": "2c0122ea",
   "metadata": {},
   "outputs": [
    {
     "data": {
      "text/plain": [
       "214.61759999999995"
      ]
     },
     "execution_count": 96,
     "metadata": {},
     "output_type": "execute_result"
    }
   ],
   "source": [
    "prd_of_all_inches = reduce(lambda x, y: x * y,  cm_list)\n",
    "prd_of_all_inches"
   ]
  },
  {
   "cell_type": "markdown",
   "id": "58ee0ef4",
   "metadata": {},
   "source": [
    "## One More example"
   ]
  },
  {
   "cell_type": "code",
   "execution_count": 97,
   "id": "649e699f",
   "metadata": {},
   "outputs": [
    {
     "data": {
      "text/plain": [
       "7"
      ]
     },
     "execution_count": 97,
     "metadata": {},
     "output_type": "execute_result"
    }
   ],
   "source": [
    "vals = [4, 5, 2, 1, 5, 6, 7, 3]\n",
    "reduce(lambda x, y : x if x > y else y, vals)"
   ]
  },
  {
   "cell_type": "code",
   "execution_count": 99,
   "id": "fc686424",
   "metadata": {},
   "outputs": [
    {
     "name": "stdout",
     "output_type": "stream",
     "text": [
      "[{'name': 'Alice', 'salary': 180000, 'job': 'data scientist'}, {'name': 'Bob', 'salary': 99000, 'job': 'data engineer'}, {'name': 'Frank', 'salary': 87000, 'job': 'data analyst'}]\n"
     ]
    }
   ],
   "source": [
    "column_names = ['name', 'salary', 'job']\n",
    "db_rows = [('Alice', 180000, 'data scientist'),\n",
    "           ('Bob', 99000, 'data engineer'),\n",
    "           ('Frank', 87000, 'data analyst')]\n",
    "\n",
    "db = [dict(zip(column_names, row)) for row in db_rows]\n",
    "print(db)"
   ]
  },
  {
   "cell_type": "code",
   "execution_count": null,
   "id": "31dedecb",
   "metadata": {},
   "outputs": [],
   "source": []
  }
 ],
 "metadata": {
  "kernelspec": {
   "display_name": "Python 3 (ipykernel)",
   "language": "python",
   "name": "python3"
  },
  "language_info": {
   "codemirror_mode": {
    "name": "ipython",
    "version": 3
   },
   "file_extension": ".py",
   "mimetype": "text/x-python",
   "name": "python",
   "nbconvert_exporter": "python",
   "pygments_lexer": "ipython3",
   "version": "3.10.4"
  }
 },
 "nbformat": 4,
 "nbformat_minor": 5
}
