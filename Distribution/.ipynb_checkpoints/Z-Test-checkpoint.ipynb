{
 "cells": [
  {
   "cell_type": "code",
   "execution_count": 10,
   "id": "d0f8eeb6",
   "metadata": {},
   "outputs": [
    {
     "name": "stdout",
     "output_type": "stream",
     "text": [
      "Requirement already satisfied: wget in c:\\users\\mthiru947\\appdata\\local\\programs\\python\\python310\\lib\\site-packages (3.2)\n"
     ]
    },
    {
     "name": "stderr",
     "output_type": "stream",
     "text": [
      "WARNING: There was an error checking the latest version of pip.\n"
     ]
    }
   ],
   "source": [
    "!pip install wget"
   ]
  },
  {
   "cell_type": "code",
   "execution_count": 2,
   "id": "31bb7c4b",
   "metadata": {},
   "outputs": [],
   "source": [
    "# Group A ---> Treatment Group shown 2 ads per ad-break\n",
    "# Group B ---> Control Group shown only 1 ad per ad break\n",
    "# Let us compare mean watch times per group\n",
    "# H0 : mu1 = mu2\n",
    "# H1 : mu1 != mu2"
   ]
  },
  {
   "cell_type": "code",
   "execution_count": 5,
   "id": "5adbabc1",
   "metadata": {},
   "outputs": [],
   "source": [
    "import pandas as pd\n",
    "import numpy as np\n",
    "import matplotlib.pyplot as plt\n",
    "import seaborn as sns\n",
    "from scipy import stats\n",
    "import scipy"
   ]
  },
  {
   "cell_type": "code",
   "execution_count": 6,
   "id": "70e9d198",
   "metadata": {},
   "outputs": [
    {
     "name": "stdout",
     "output_type": "stream",
     "text": [
      "https://docs.google.com/uc?export=download&id=1Hl96n6BWdl3ruJgCo_gaAWEb0kEYg__H\n"
     ]
    }
   ],
   "source": [
    "# Download data\n",
    "# https://drive.google.com/file/d/1Hl96n6BWdl3ruJgCo_gaAWEb0kEYg__H/view?usp=sharing\n",
    "id = \"1Hl96n6BWdl3ruJgCo_gaAWEb0kEYg__H\"\n",
    "path = \"https://docs.google.com/uc?export=download&id=\" + id\n",
    "print(path)"
   ]
  },
  {
   "cell_type": "code",
   "execution_count": 1,
   "id": "05074a8b",
   "metadata": {},
   "outputs": [
    {
     "name": "stderr",
     "output_type": "stream",
     "text": [
      "'wget' is not recognized as an internal or external command,\n",
      "operable program or batch file.\n"
     ]
    }
   ],
   "source": [
    "!wget \"https://docs.google.com/uc?export=download&id=1Hl96n6BWdl3ruJgCo_gaAWEb0kEYg__H\" -O ab_test_data.csv"
   ]
  },
  {
   "cell_type": "code",
   "execution_count": null,
   "id": "484aa89c",
   "metadata": {},
   "outputs": [],
   "source": []
  }
 ],
 "metadata": {
  "kernelspec": {
   "display_name": "Python 3 (ipykernel)",
   "language": "python",
   "name": "python3"
  },
  "language_info": {
   "codemirror_mode": {
    "name": "ipython",
    "version": 3
   },
   "file_extension": ".py",
   "mimetype": "text/x-python",
   "name": "python",
   "nbconvert_exporter": "python",
   "pygments_lexer": "ipython3",
   "version": "3.10.4"
  }
 },
 "nbformat": 4,
 "nbformat_minor": 5
}
