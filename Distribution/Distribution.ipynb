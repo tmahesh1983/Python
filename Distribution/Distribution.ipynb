{
 "cells": [
  {
   "cell_type": "code",
   "execution_count": 5,
   "id": "8c04f5f4",
   "metadata": {},
   "outputs": [],
   "source": [
    "import numpy as np\n",
    "from scipy.stats import poisson, expon\n",
    "import matplotlib.pyplot as plt\n",
    "import pandas as pd\n",
    "import seaborn as sns"
   ]
  },
  {
   "cell_type": "code",
   "execution_count": 6,
   "id": "a5c11386",
   "metadata": {},
   "outputs": [],
   "source": [
    "# Number of surgeries in a hospital per day: Poisson \n",
    "# Sample of 200 observations\n",
    "\n",
    "V = [2, 5, 6, 3, 2, 6, 2, 10, 4, 4, 8,  3, 3, 3, 3, 8, 7, \n",
    "    6,  9, 4, 5, 5, 5, 5, 4, 10,  9, 4,  0, 8, 4, 6, 5, 5,\n",
    "    6,  1, 6, 7, 2, 3, 5, 7,  2,  3, 4,  5, 7, 4, 5, 4, 3,\n",
    "    3,  8, 1, 6, 8, 6, 6, 3,  9,  8, 2,  3, 6, 5, 8, 8, 5,\n",
    "    7,  7, 6, 7, 6, 6, 9, 3,  6, 12, 4,  4, 3, 2, 2, 2, 4,\n",
    "    8,  5, 3, 6, 2, 5, 3, 2,  6,  9, 2,  7, 4, 4, 3, 4, 5,\n",
    "    8,  9, 4, 6, 6, 2, 2, 7,  2, 10, 8,  2, 6, 3, 7, 2, 3,\n",
    "    8, 11, 4, 5, 6, 3, 7, 5,  3,  3, 6,  7, 4, 3, 4, 8, 1,\n",
    "    5,  5, 1, 4, 6, 6, 8, 8,  4,  6, 7,  5, 1, 7, 9, 6, 2,\n",
    "    3,  8, 6, 4, 2, 7, 2, 6,  9,  7, 9,  4, 7, 3, 8, 4, 10,\n",
    "    5,  5, 3, 5, 2, 7, 4, 4,  5,  3, 8, 10, 4, 6, 3, 4, 3,\n",
    "    4, 7, 5, 0, 6, 3, 4, 6, 8, 7, 6, 7, 6]"
   ]
  },
  {
   "cell_type": "code",
   "execution_count": 7,
   "id": "0b6d595a",
   "metadata": {},
   "outputs": [
    {
     "name": "stdout",
     "output_type": "stream",
     "text": [
      "200\n"
     ]
    }
   ],
   "source": [
    "print(len(V))"
   ]
  },
  {
   "cell_type": "code",
   "execution_count": 8,
   "id": "465abf66",
   "metadata": {},
   "outputs": [
    {
     "name": "stderr",
     "output_type": "stream",
     "text": [
      "C:\\Users\\mthiru947\\AppData\\Local\\Programs\\Python\\Python310\\lib\\site-packages\\seaborn\\distributions.py:2619: FutureWarning: `distplot` is a deprecated function and will be removed in a future version. Please adapt your code to use either `displot` (a figure-level function with similar flexibility) or `histplot` (an axes-level function for histograms).\n",
      "  warnings.warn(msg, FutureWarning)\n"
     ]
    },
    {
     "data": {
      "text/plain": [
       "<AxesSubplot:ylabel='Density'>"
      ]
     },
     "execution_count": 8,
     "metadata": {},
     "output_type": "execute_result"
    },
    {
     "data": {
      "image/png": "[encoded data removed]",
      "text/plain": [
       "<Figure size 432x288 with 1 Axes>"
      ]
     },
     "metadata": {
      "needs_background": "light"
     },
     "output_type": "display_data"
    }
   ],
   "source": [
    "sns.distplot(V)"
   ]
  },
  {
   "cell_type": "code",
   "execution_count": 9,
   "id": "11b70966",
   "metadata": {},
   "outputs": [],
   "source": [
    "## Here V is discrete variable, it can't be Gausian(Gausian alway for continuous RV), it is poisson distribution."
   ]
  },
  {
   "cell_type": "code",
   "execution_count": 10,
   "id": "9ab26680",
   "metadata": {},
   "outputs": [
    {
     "name": "stdout",
     "output_type": "stream",
     "text": [
      "5.12\n"
     ]
    }
   ],
   "source": [
    "lambda_estimated = np.mean(V)\n",
    "print(lambda_estimated)"
   ]
  },
  {
   "cell_type": "code",
   "execution_count": 11,
   "id": "a5a44be3",
   "metadata": {},
   "outputs": [
    {
     "name": "stdout",
     "output_type": "stream",
     "text": [
      "5.515599999999999\n"
     ]
    }
   ],
   "source": [
    "print(np.var(V))"
   ]
  },
  {
   "cell_type": "code",
   "execution_count": 12,
   "id": "9ebf5c6a",
   "metadata": {},
   "outputs": [
    {
     "name": "stdout",
     "output_type": "stream",
     "text": [
      "0.016004884984684664\n"
     ]
    }
   ],
   "source": [
    "# What is the probability that the hospital to do more than 10 surgeries in a day?\n",
    "\n",
    "print(1 - poisson.cdf(10, lambda_estimated))"
   ]
  },
  {
   "cell_type": "code",
   "execution_count": 17,
   "id": "628b44ad",
   "metadata": {},
   "outputs": [
    {
     "name": "stdout",
     "output_type": "stream",
     "text": [
      "0.03657326011743636\n"
     ]
    }
   ],
   "source": [
    "# What is the probability that the hospital to do less than 2 surgeris in a day?\n",
    "print( poisson.cdf(1, lambda_estimated))"
   ]
  },
  {
   "cell_type": "code",
   "execution_count": 16,
   "id": "d2e0bc06",
   "metadata": {},
   "outputs": [
    {
     "name": "stdout",
     "output_type": "stream",
     "text": [
      "5.12\n"
     ]
    }
   ],
   "source": [
    "print(lambda_estimated)"
   ]
  },
  {
   "cell_type": "code",
   "execution_count": 18,
   "id": "15184b3c",
   "metadata": {},
   "outputs": [
    {
     "name": "stdout",
     "output_type": "stream",
     "text": [
      "0.17521884429105677\n"
     ]
    }
   ],
   "source": [
    "# What is the probability that there will be exactly 5 surgeries in a day?\n",
    "\n",
    "print(poisson.pmf(5, lambda_estimated))"
   ]
  },
  {
   "cell_type": "code",
   "execution_count": 20,
   "id": "6115819e",
   "metadata": {},
   "outputs": [
    {
     "name": "stdout",
     "output_type": "stream",
     "text": [
      "0.1953125\n"
     ]
    }
   ],
   "source": [
    "# What is the average time difference between two surgeries\n",
    "print(1/lambda_estimated)"
   ]
  },
  {
   "cell_type": "code",
   "execution_count": null,
   "id": "3fa98783",
   "metadata": {},
   "outputs": [],
   "source": []
  }
 ],
 "metadata": {
  "kernelspec": {
   "display_name": "Python 3 (ipykernel)",
   "language": "python",
   "name": "python3"
  },
  "language_info": {
   "codemirror_mode": {
    "name": "ipython",
    "version": 3
   },
   "file_extension": ".py",
   "mimetype": "text/x-python",
   "name": "python",
   "nbconvert_exporter": "python",
   "pygments_lexer": "ipython3",
   "version": "3.10.4"
  }
 },
 "nbformat": 4,
 "nbformat_minor": 5
}
