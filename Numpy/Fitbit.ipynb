{
 "cells": [
  {
   "cell_type": "markdown",
   "id": "666ca453",
   "metadata": {},
   "source": [
    "## Fitbit"
   ]
  },
  {
   "cell_type": "code",
   "execution_count": 3,
   "id": "6979b5ab",
   "metadata": {},
   "outputs": [],
   "source": [
    "import numpy as np"
   ]
  },
  {
   "cell_type": "markdown",
   "id": "0b23fee3",
   "metadata": {},
   "source": [
    "## Load data set"
   ]
  },
  {
   "cell_type": "code",
   "execution_count": 4,
   "id": "4d047172",
   "metadata": {},
   "outputs": [],
   "source": [
    "data = np.loadtxt('fitness.txt', dtype='str')"
   ]
  },
  {
   "cell_type": "code",
   "execution_count": 16,
   "id": "4e5ab9e3",
   "metadata": {},
   "outputs": [
    {
     "data": {
      "text/plain": [
       "array([['06-10-2017', '5464', '200', '181', '5', '0', '66'],\n",
       "       ['07-10-2017', '6041', '100', '197', '8', '0', '66'],\n",
       "       ['08-10-2017', '25', '100', '0', '5', '0', '66'],\n",
       "       ['09-10-2017', '5461', '100', '174', '4', '0', '66'],\n",
       "       ['10-10-2017', '6915', '200', '223', '5', '500', '66']],\n",
       "      dtype='<U10')"
      ]
     },
     "execution_count": 16,
     "metadata": {},
     "output_type": "execute_result"
    }
   ],
   "source": [
    "data[:5]"
   ]
  },
  {
   "cell_type": "code",
   "execution_count": 28,
   "id": "f6a76ad0",
   "metadata": {},
   "outputs": [
    {
     "data": {
      "text/plain": [
       "array([['06-10-2017', '5464', '200', '181'],\n",
       "       ['07-10-2017', '6041', '100', '197'],\n",
       "       ['08-10-2017', '25', '100', '0']], dtype='<U10')"
      ]
     },
     "execution_count": 28,
     "metadata": {},
     "output_type": "execute_result"
    }
   ],
   "source": [
    "data[:3,:4]"
   ]
  },
  {
   "cell_type": "code",
   "execution_count": 6,
   "id": "fec61e50",
   "metadata": {},
   "outputs": [
    {
     "data": {
      "text/plain": [
       "(96, 7)"
      ]
     },
     "execution_count": 6,
     "metadata": {},
     "output_type": "execute_result"
    }
   ],
   "source": [
    "data.shape"
   ]
  },
  {
   "cell_type": "markdown",
   "id": "fd192066",
   "metadata": {},
   "source": [
    "#### Stepcount"
   ]
  },
  {
   "cell_type": "code",
   "execution_count": 17,
   "id": "4ba3549c",
   "metadata": {},
   "outputs": [
    {
     "data": {
      "text/plain": [
       "array([5464., 6041.,   25., 5461., 6915., 4545., 4340., 1230.,   61.,\n",
       "       1258., 3148., 4687., 4732., 3519., 1580., 2822.,  181., 3158.,\n",
       "       4383., 3881., 4037.,  202.,  292.,  330., 2209., 4550., 4435.,\n",
       "       4779., 1831., 2255.,  539., 5464., 6041., 4068., 4683., 4033.,\n",
       "       6314.,  614., 3149., 4005., 4880., 4136.,  705.,  570.,  269.,\n",
       "       4275., 5999., 4421., 6930., 5195.,  546.,  493.,  995., 1163.,\n",
       "       6676., 3608.,  774., 1421., 4064., 2725., 5934., 1867., 3721.,\n",
       "       2374., 2909., 1648.,  799., 7102., 3941., 7422.,  437., 1231.,\n",
       "       1696., 4921.,  221., 6500., 3575., 4061.,  651.,  753.,  518.,\n",
       "       5537., 4108., 5376., 3066.,  177.,   36.,  299., 1447., 2599.,\n",
       "        702.,  133.,  153.,  500., 2127., 2203.])"
      ]
     },
     "execution_count": 17,
     "metadata": {},
     "output_type": "execute_result"
    }
   ],
   "source": [
    "stepCounts = data[:, 1].astype('float')\n",
    "stepCounts"
   ]
  },
  {
   "cell_type": "code",
   "execution_count": 18,
   "id": "28462f5d",
   "metadata": {},
   "outputs": [
    {
     "data": {
      "text/plain": [
       "numpy.ndarray"
      ]
     },
     "execution_count": 18,
     "metadata": {},
     "output_type": "execute_result"
    }
   ],
   "source": [
    "type(stepCounts)"
   ]
  },
  {
   "cell_type": "markdown",
   "id": "f93bcda9",
   "metadata": {},
   "source": [
    "#### Mean/Min/Max"
   ]
  },
  {
   "cell_type": "code",
   "execution_count": 19,
   "id": "365b8808",
   "metadata": {},
   "outputs": [
    {
     "data": {
      "text/plain": [
       "2935.9375"
      ]
     },
     "execution_count": 19,
     "metadata": {},
     "output_type": "execute_result"
    }
   ],
   "source": [
    "stepCounts.mean()"
   ]
  },
  {
   "cell_type": "code",
   "execution_count": 20,
   "id": "d19c6c21",
   "metadata": {},
   "outputs": [
    {
     "data": {
      "text/plain": [
       "25.0"
      ]
     },
     "execution_count": 20,
     "metadata": {},
     "output_type": "execute_result"
    }
   ],
   "source": [
    "stepCounts.min()"
   ]
  },
  {
   "cell_type": "code",
   "execution_count": 21,
   "id": "08e85698",
   "metadata": {},
   "outputs": [
    {
     "data": {
      "text/plain": [
       "7422.0"
      ]
     },
     "execution_count": 21,
     "metadata": {},
     "output_type": "execute_result"
    }
   ],
   "source": [
    "stepCounts.max()"
   ]
  },
  {
   "cell_type": "markdown",
   "id": "c4f8f34d",
   "metadata": {},
   "source": [
    "#### Transpose"
   ]
  },
  {
   "cell_type": "code",
   "execution_count": 23,
   "id": "ceeea0aa",
   "metadata": {},
   "outputs": [
    {
     "data": {
      "text/plain": [
       "array([['06-10-2017', '5464', '200', '181', '5', '0', '66'],\n",
       "       ['07-10-2017', '6041', '100', '197', '8', '0', '66'],\n",
       "       ['08-10-2017', '25', '100', '0', '5', '0', '66'],\n",
       "       ['09-10-2017', '5461', '100', '174', '4', '0', '66'],\n",
       "       ['10-10-2017', '6915', '200', '223', '5', '500', '66'],\n",
       "       ['11-10-2017', '4545', '100', '149', '6', '0', '66'],\n",
       "       ['12-10-2017', '4340', '100', '140', '6', '0', '66'],\n",
       "       ['13-10-2017', '1230', '100', '38', '7', '0', '66'],\n",
       "       ['14-10-2017', '61', '100', '1', '5', '0', '66'],\n",
       "       ['15-10-2017', '1258', '100', '40', '6', '0', '65'],\n",
       "       ['16-10-2017', '3148', '100', '101', '8', '0', '65'],\n",
       "       ['17-10-2017', '4687', '100', '152', '5', '0', '65'],\n",
       "       ['18-10-2017', '4732', '300', '150', '6', '500', '65'],\n",
       "       ['19-10-2017', '3519', '100', '113', '7', '0', '65'],\n",
       "       ['20-10-2017', '1580', '100', '49', '5', '0', '65'],\n",
       "       ['21-10-2017', '2822', '100', '86', '6', '0', '65'],\n",
       "       ['22-10-2017', '181', '100', '6', '8', '0', '65'],\n",
       "       ['23-10-2017', '3158', '200', '99', '5', '0', '65'],\n",
       "       ['24-10-2017', '4383', '200', '143', '4', '0', '64'],\n",
       "       ['25-10-2017', '3881', '200', '125', '5', '0', '64'],\n",
       "       ['26-10-2017', '4037', '200', '129', '6', '0', '64'],\n",
       "       ['27-10-2017', '202', '200', '6', '8', '0', '64'],\n",
       "       ['28-10-2017', '292', '200', '9', '5', '0', '64'],\n",
       "       ['29-10-2017', '330', '300', '10', '6', '0', '64'],\n",
       "       ['30-10-2017', '2209', '200', '72', '5', '0', '64'],\n",
       "       ['31-10-2017', '4550', '300', '150', '8', '500', '64'],\n",
       "       ['01-11-2017', '4435', '300', '141', '5', '0', '64'],\n",
       "       ['02-11-2017', '4779', '300', '156', '4', '0', '64'],\n",
       "       ['03-11-2017', '1831', '300', '57', '5', '0', '64'],\n",
       "       ['04-11-2017', '2255', '300', '72', '4', '0', '64'],\n",
       "       ['05-11-2017', '539', '300', '17', '5', '500', '64'],\n",
       "       ['06-11-2017', '5464', '300', '181', '4', '0', '64'],\n",
       "       ['07-11-2017', '6041', '200', '197', '3', '0', '64'],\n",
       "       ['08-11-2017', '4068', '300', '131', '2', '0', '64'],\n",
       "       ['09-11-2017', '4683', '300', '154', '9', '0', '64'],\n",
       "       ['10-11-2017', '4033', '300', '137', '5', '0', '64'],\n",
       "       ['11-11-2017', '6314', '300', '193', '6', '500', '64'],\n",
       "       ['12-11-2017', '614', '300', '19', '4', '500', '64'],\n",
       "       ['13-11-2017', '3149', '300', '101', '5', '500', '64'],\n",
       "       ['14-11-2017', '4005', '300', '139', '8', '500', '64'],\n",
       "       ['15-11-2017', '4880', '300', '164', '4', '500', '64'],\n",
       "       ['16-11-2017', '4136', '300', '137', '5', '500', '64'],\n",
       "       ['17-11-2017', '705', '300', '22', '6', '500', '64'],\n",
       "       ['18-11-2017', '570', '200', '17', '5', '500', '64'],\n",
       "       ['19-11-2017', '269', '300', '9', '6', '500', '64'],\n",
       "       ['20-11-2017', '4275', '300', '145', '5', '0', '64'],\n",
       "       ['21-11-2017', '5999', '300', '192', '6', '0', '64'],\n",
       "       ['22-11-2017', '4421', '300', '146', '5', '0', '64'],\n",
       "       ['23-11-2017', '6930', '300', '234', '6', '0', '64'],\n",
       "       ['24-11-2017', '5195', '300', '167', '5', '0', '64'],\n",
       "       ['25-11-2017', '546', '300', '16', '6', '0', '64'],\n",
       "       ['26-11-2017', '493', '300', '17', '7', '500', '64'],\n",
       "       ['27-11-2017', '995', '300', '32', '6', '500', '64'],\n",
       "       ['28-11-2017', '1163', '200', '35', '7', '500', '64'],\n",
       "       ['29-11-2017', '6676', '100', '220', '6', '500', '64'],\n",
       "       ['30-11-2017', '3608', '300', '116', '5', '500', '64'],\n",
       "       ['01-12-2017', '774', '300', '23', '6', '500', '64'],\n",
       "       ['02-12-2017', '1421', '300', '44', '7', '500', '64'],\n",
       "       ['03-12-2017', '4064', '300', '131', '8', '500', '64'],\n",
       "       ['04-12-2017', '2725', '300', '86', '8', '500', '64'],\n",
       "       ['05-12-2017', '5934', '300', '194', '7', '500', '64'],\n",
       "       ['06-12-2017', '1867', '300', '60', '8', '500', '64'],\n",
       "       ['07-12-2017', '3721', '100', '121', '5', '500', '64'],\n",
       "       ['08-12-2017', '2374', '200', '76', '4', '0', '64'],\n",
       "       ['09-12-2017', '2909', '200', '93', '3', '500', '64'],\n",
       "       ['10-12-2017', '1648', '100', '53', '3', '500', '64'],\n",
       "       ['11-12-2017', '799', '100', '25', '4', '0', '64'],\n",
       "       ['12-12-2017', '7102', '200', '227', '5', '500', '64'],\n",
       "       ['13-12-2017', '3941', '200', '125', '5', '500', '64'],\n",
       "       ['14-12-2017', '7422', '300', '243', '5', '500', '64'],\n",
       "       ['15-12-2017', '437', '200', '14', '3', '500', '64'],\n",
       "       ['16-12-2017', '1231', '200', '39', '4', '500', '64'],\n",
       "       ['17-12-2017', '1696', '100', '55', '4', '0', '64'],\n",
       "       ['18-12-2017', '4921', '200', '158', '5', '500', '64'],\n",
       "       ['19-12-2017', '221', '100', '7', '5', '500', '64'],\n",
       "       ['20-12-2017', '6500', '200', '213', '5', '500', '64'],\n",
       "       ['21-12-2017', '3575', '200', '116', '5', '500', '64'],\n",
       "       ['22-12-2017', '4061', '100', '129', '5', '0', '64'],\n",
       "       ['23-12-2017', '651', '100', '21', '5', '0', '64'],\n",
       "       ['24-12-2017', '753', '100', '28', '4', '0', '64'],\n",
       "       ['25-12-2017', '518', '100', '16', '3', '0', '64'],\n",
       "       ['26-12-2017', '5537', '300', '180', '4', '500', '64'],\n",
       "       ['27-12-2017', '4108', '200', '138', '5', '500', '64'],\n",
       "       ['28-12-2017', '5376', '300', '176', '5', '500', '64'],\n",
       "       ['29-12-2017', '3066', '200', '99', '4', '500', '64'],\n",
       "       ['30-12-2017', '177', '100', '5', '5', '0', '64'],\n",
       "       ['31-12-2017', '36', '100', '1', '3', '0', '64'],\n",
       "       ['01-01-2018', '299', '100', '10', '3', '0', '64'],\n",
       "       ['02-01-2018', '1447', '200', '47', '3', '0', '64'],\n",
       "       ['03-01-2018', '2599', '200', '84', '2', '0', '64'],\n",
       "       ['04-01-2018', '702', '100', '23', '3', '0', '64'],\n",
       "       ['05-01-2018', '133', '100', '4', '2', '0', '64'],\n",
       "       ['06-01-2018', '153', '300', '0', '8', '0', '64'],\n",
       "       ['07-01-2018', '500', '200', '0', '5', '500', '64'],\n",
       "       ['08-01-2018', '2127', '200', '0', '5', '0', '64'],\n",
       "       ['09-01-2018', '2203', '300', '0', '5', '500', '64']], dtype='<U10')"
      ]
     },
     "execution_count": 23,
     "metadata": {},
     "output_type": "execute_result"
    }
   ],
   "source": [
    "data"
   ]
  },
  {
   "cell_type": "code",
   "execution_count": 26,
   "id": "d06582a1",
   "metadata": {},
   "outputs": [
    {
     "data": {
      "text/plain": [
       "7"
      ]
     },
     "execution_count": 26,
     "metadata": {},
     "output_type": "execute_result"
    }
   ],
   "source": [
    "len(data.T)"
   ]
  },
  {
   "cell_type": "code",
   "execution_count": 25,
   "id": "36707dfc",
   "metadata": {},
   "outputs": [
    {
     "data": {
      "text/plain": [
       "7"
      ]
     },
     "execution_count": 25,
     "metadata": {},
     "output_type": "execute_result"
    }
   ],
   "source": [
    "len(data[:5].T)"
   ]
  },
  {
   "cell_type": "markdown",
   "id": "5c039614",
   "metadata": {},
   "source": [
    "#### Assign to variable"
   ]
  },
  {
   "cell_type": "code",
   "execution_count": 29,
   "id": "6ceac399",
   "metadata": {},
   "outputs": [],
   "source": [
    "date, step_count, mood, calories_burned, hours_of_sleep, bool_of_active, weight_kg = data[:5].T"
   ]
  },
  {
   "cell_type": "code",
   "execution_count": 30,
   "id": "831ddaf0",
   "metadata": {},
   "outputs": [
    {
     "data": {
      "text/plain": [
       "array(['5464', '6041', '25', '5461', '6915'], dtype='<U10')"
      ]
     },
     "execution_count": 30,
     "metadata": {},
     "output_type": "execute_result"
    }
   ],
   "source": [
    "step_count"
   ]
  },
  {
   "cell_type": "code",
   "execution_count": 32,
   "id": "efe5f1e1",
   "metadata": {},
   "outputs": [
    {
     "data": {
      "text/plain": [
       "array(['181', '197', '0', '174', '223'], dtype='<U10')"
      ]
     },
     "execution_count": 32,
     "metadata": {},
     "output_type": "execute_result"
    }
   ],
   "source": [
    "calories_burned"
   ]
  },
  {
   "cell_type": "code",
   "execution_count": 33,
   "id": "9f6f6a30",
   "metadata": {},
   "outputs": [],
   "source": [
    "calories_burned = calories_burned.astype('int')"
   ]
  },
  {
   "cell_type": "code",
   "execution_count": 34,
   "id": "d0afe29c",
   "metadata": {},
   "outputs": [
    {
     "data": {
      "text/plain": [
       "array([181, 197,   0, 174, 223])"
      ]
     },
     "execution_count": 34,
     "metadata": {},
     "output_type": "execute_result"
    }
   ],
   "source": [
    "calories_burned"
   ]
  },
  {
   "cell_type": "code",
   "execution_count": 35,
   "id": "f19be285",
   "metadata": {},
   "outputs": [
    {
     "data": {
      "text/plain": [
       "array(['200', '100', '100', '100', '200'], dtype='<U10')"
      ]
     },
     "execution_count": 35,
     "metadata": {},
     "output_type": "execute_result"
    }
   ],
   "source": [
    "mood"
   ]
  },
  {
   "cell_type": "markdown",
   "id": "025bfbd9",
   "metadata": {},
   "source": [
    "#### Assign categorical value"
   ]
  },
  {
   "cell_type": "code",
   "execution_count": 36,
   "id": "226dc8a8",
   "metadata": {},
   "outputs": [
    {
     "data": {
      "text/plain": [
       "array(['Neutral', 'Sad', 'Sad', 'Sad', 'Neutral'], dtype='<U10')"
      ]
     },
     "execution_count": 36,
     "metadata": {},
     "output_type": "execute_result"
    }
   ],
   "source": [
    "mood [mood == '100'] = \"Sad\"\n",
    "mood [mood == '200'] = \"Neutral\"\n",
    "mood [mood == '300'] = \"Happy\"\n",
    "mood"
   ]
  },
  {
   "cell_type": "markdown",
   "id": "cdb00c21",
   "metadata": {},
   "source": [
    "#### Unique count"
   ]
  },
  {
   "cell_type": "code",
   "execution_count": 37,
   "id": "87667e77",
   "metadata": {},
   "outputs": [
    {
     "data": {
      "text/plain": [
       "array(['Neutral', 'Sad'], dtype='<U10')"
      ]
     },
     "execution_count": 37,
     "metadata": {},
     "output_type": "execute_result"
    }
   ],
   "source": [
    "np.unique(mood)"
   ]
  },
  {
   "cell_type": "code",
   "execution_count": 38,
   "id": "a04763d1",
   "metadata": {},
   "outputs": [
    {
     "data": {
      "text/plain": [
       "(array(['Neutral', 'Sad'], dtype='<U10'), array([2, 3], dtype=int64))"
      ]
     },
     "execution_count": 38,
     "metadata": {},
     "output_type": "execute_result"
    }
   ],
   "source": [
    "np.unique(mood, return_counts=True)"
   ]
  },
  {
   "cell_type": "markdown",
   "id": "eaaa27ef",
   "metadata": {},
   "source": [
    "#### Avg step count when sad"
   ]
  },
  {
   "cell_type": "code",
   "execution_count": 43,
   "id": "c1e3a3c4",
   "metadata": {},
   "outputs": [
    {
     "data": {
      "text/plain": [
       "3842.3333333333335"
      ]
     },
     "execution_count": 43,
     "metadata": {},
     "output_type": "execute_result"
    }
   ],
   "source": [
    "step_count[mood=='Sad'].astype('int').mean()"
   ]
  },
  {
   "cell_type": "markdown",
   "id": "5a051650",
   "metadata": {},
   "source": [
    "#### Count mood when step count > 4000"
   ]
  },
  {
   "cell_type": "code",
   "execution_count": 49,
   "id": "b6ac6acf",
   "metadata": {},
   "outputs": [
    {
     "data": {
      "text/plain": [
       "(array(['Neutral', 'Sad'], dtype='<U10'), array([2, 2], dtype=int64))"
      ]
     },
     "execution_count": 49,
     "metadata": {},
     "output_type": "execute_result"
    }
   ],
   "source": [
    "np.unique(mood[step_count.astype('int') > 4000], return_counts=True)"
   ]
  },
  {
   "cell_type": "code",
   "execution_count": null,
   "id": "6cbbf4e1",
   "metadata": {},
   "outputs": [],
   "source": []
  }
 ],
 "metadata": {
  "kernelspec": {
   "display_name": "Python 3 (ipykernel)",
   "language": "python",
   "name": "python3"
  },
  "language_info": {
   "codemirror_mode": {
    "name": "ipython",
    "version": 3
   },
   "file_extension": ".py",
   "mimetype": "text/x-python",
   "name": "python",
   "nbconvert_exporter": "python",
   "pygments_lexer": "ipython3",
   "version": "3.10.4"
  }
 },
 "nbformat": 4,
 "nbformat_minor": 5
}
