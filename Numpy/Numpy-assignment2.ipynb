{
 "cells": [
  {
   "cell_type": "code",
   "execution_count": 2,
   "id": "d22ad9e3",
   "metadata": {},
   "outputs": [],
   "source": [
    "import numpy as np"
   ]
  },
  {
   "cell_type": "markdown",
   "id": "0aa7c988",
   "metadata": {},
   "source": [
    "## Q3. Median of means"
   ]
  },
  {
   "cell_type": "code",
   "execution_count": 41,
   "id": "dbe2b2ff",
   "metadata": {},
   "outputs": [
    {
     "data": {
      "text/plain": [
       "array([[0.42481173, 0.27815625, 0.4528516 , 0.92914422, 0.32028957,\n",
       "        0.52514143, 0.51977427, 0.45712874, 0.17217879, 0.73477396],\n",
       "       [0.23512026, 0.46453444, 0.31101469, 0.6409008 , 0.05245722,\n",
       "        0.94643635, 0.02742174, 0.47131826, 0.88618914, 0.68355162],\n",
       "       [0.91839132, 0.54782834, 0.26552842, 0.04754189, 0.21889699,\n",
       "        0.59011632, 0.00679378, 0.71025482, 0.38653592, 0.93366402],\n",
       "       [0.00375079, 0.62927085, 0.54686952, 0.50738595, 0.47989129,\n",
       "        0.95636674, 0.93476035, 0.83543565, 0.5718468 , 0.05386803],\n",
       "       [0.16411669, 0.2114079 , 0.77179011, 0.35626594, 0.78850986,\n",
       "        0.28290322, 0.36418067, 0.7608729 , 0.61935945, 0.98464462],\n",
       "       [0.81961008, 0.5932376 , 0.53656126, 0.89857857, 0.81276492,\n",
       "        0.74786037, 0.29924935, 0.57063998, 0.27803103, 0.57996192],\n",
       "       [0.17542567, 0.13075954, 0.74116101, 0.46571468, 0.56944042,\n",
       "        0.91207537, 0.83324341, 0.1895842 , 0.90568621, 0.55229585],\n",
       "       [0.45859889, 0.83547113, 0.35687576, 0.98203957, 0.32297   ,\n",
       "        0.54844163, 0.35183589, 0.50158555, 0.5443906 , 0.86584761],\n",
       "       [0.25212835, 0.85501191, 0.46126756, 0.16664396, 0.0816769 ,\n",
       "        0.7054152 , 0.71579264, 0.37021594, 0.6581651 , 0.11380638],\n",
       "       [0.36257082, 0.84542395, 0.4000541 , 0.12644961, 0.8819256 ,\n",
       "        0.92616561, 0.65582066, 0.2681093 , 0.26371079, 0.34271126],\n",
       "       [0.33586379, 0.70597589, 0.71825158, 0.32211688, 0.29432929,\n",
       "        0.8177712 , 0.94939918, 0.63737286, 0.96522896, 0.0617662 ]])"
      ]
     },
     "execution_count": 41,
     "metadata": {},
     "output_type": "execute_result"
    }
   ],
   "source": [
    "m = 11\n",
    "n = 10\n",
    "X = np.random.uniform(low=0.0, high=1.0, size=(m,n)).astype(np.float64)\n",
    "X"
   ]
  },
  {
   "cell_type": "code",
   "execution_count": 43,
   "id": "6920da28",
   "metadata": {},
   "outputs": [
    {
     "data": {
      "text/plain": [
       "[array([[0.42481173, 0.27815625, 0.4528516 , 0.92914422, 0.32028957,\n",
       "         0.52514143, 0.51977427, 0.45712874, 0.17217879, 0.73477396],\n",
       "        [0.23512026, 0.46453444, 0.31101469, 0.6409008 , 0.05245722,\n",
       "         0.94643635, 0.02742174, 0.47131826, 0.88618914, 0.68355162],\n",
       "        [0.91839132, 0.54782834, 0.26552842, 0.04754189, 0.21889699,\n",
       "         0.59011632, 0.00679378, 0.71025482, 0.38653592, 0.93366402],\n",
       "        [0.00375079, 0.62927085, 0.54686952, 0.50738595, 0.47989129,\n",
       "         0.95636674, 0.93476035, 0.83543565, 0.5718468 , 0.05386803],\n",
       "        [0.16411669, 0.2114079 , 0.77179011, 0.35626594, 0.78850986,\n",
       "         0.28290322, 0.36418067, 0.7608729 , 0.61935945, 0.98464462]]),\n",
       " array([[0.81961008, 0.5932376 , 0.53656126, 0.89857857, 0.81276492,\n",
       "         0.74786037, 0.29924935, 0.57063998, 0.27803103, 0.57996192],\n",
       "        [0.17542567, 0.13075954, 0.74116101, 0.46571468, 0.56944042,\n",
       "         0.91207537, 0.83324341, 0.1895842 , 0.90568621, 0.55229585],\n",
       "        [0.45859889, 0.83547113, 0.35687576, 0.98203957, 0.32297   ,\n",
       "         0.54844163, 0.35183589, 0.50158555, 0.5443906 , 0.86584761],\n",
       "        [0.25212835, 0.85501191, 0.46126756, 0.16664396, 0.0816769 ,\n",
       "         0.7054152 , 0.71579264, 0.37021594, 0.6581651 , 0.11380638],\n",
       "        [0.36257082, 0.84542395, 0.4000541 , 0.12644961, 0.8819256 ,\n",
       "         0.92616561, 0.65582066, 0.2681093 , 0.26371079, 0.34271126],\n",
       "        [0.33586379, 0.70597589, 0.71825158, 0.32211688, 0.29432929,\n",
       "         0.8177712 , 0.94939918, 0.63737286, 0.96522896, 0.0617662 ]])]"
      ]
     },
     "execution_count": 43,
     "metadata": {},
     "output_type": "execute_result"
    }
   ],
   "source": [
    "b=2  #no. of buckets\n",
    "buckets = np.vsplit(X, [(m//b)*i for i in range(1,b)])\n",
    "buckets"
   ]
  },
  {
   "cell_type": "code",
   "execution_count": 51,
   "id": "70da989a",
   "metadata": {},
   "outputs": [
    {
     "data": {
      "text/plain": [
       "[array([[0.42481173, 0.27815625, 0.4528516 , 0.92914422, 0.32028957,\n",
       "         0.52514143, 0.51977427, 0.45712874, 0.17217879, 0.73477396],\n",
       "        [0.23512026, 0.46453444, 0.31101469, 0.6409008 , 0.05245722,\n",
       "         0.94643635, 0.02742174, 0.47131826, 0.88618914, 0.68355162],\n",
       "        [0.91839132, 0.54782834, 0.26552842, 0.04754189, 0.21889699,\n",
       "         0.59011632, 0.00679378, 0.71025482, 0.38653592, 0.93366402],\n",
       "        [0.00375079, 0.62927085, 0.54686952, 0.50738595, 0.47989129,\n",
       "         0.95636674, 0.93476035, 0.83543565, 0.5718468 , 0.05386803],\n",
       "        [0.16411669, 0.2114079 , 0.77179011, 0.35626594, 0.78850986,\n",
       "         0.28290322, 0.36418067, 0.7608729 , 0.61935945, 0.98464462],\n",
       "        [0.81961008, 0.5932376 , 0.53656126, 0.89857857, 0.81276492,\n",
       "         0.74786037, 0.29924935, 0.57063998, 0.27803103, 0.57996192]]),\n",
       " array([[0.17542567, 0.13075954, 0.74116101, 0.46571468, 0.56944042,\n",
       "         0.91207537, 0.83324341, 0.1895842 , 0.90568621, 0.55229585],\n",
       "        [0.45859889, 0.83547113, 0.35687576, 0.98203957, 0.32297   ,\n",
       "         0.54844163, 0.35183589, 0.50158555, 0.5443906 , 0.86584761],\n",
       "        [0.25212835, 0.85501191, 0.46126756, 0.16664396, 0.0816769 ,\n",
       "         0.7054152 , 0.71579264, 0.37021594, 0.6581651 , 0.11380638],\n",
       "        [0.36257082, 0.84542395, 0.4000541 , 0.12644961, 0.8819256 ,\n",
       "         0.92616561, 0.65582066, 0.2681093 , 0.26371079, 0.34271126],\n",
       "        [0.33586379, 0.70597589, 0.71825158, 0.32211688, 0.29432929,\n",
       "         0.8177712 , 0.94939918, 0.63737286, 0.96522896, 0.0617662 ]])]"
      ]
     },
     "execution_count": 51,
     "metadata": {},
     "output_type": "execute_result"
    }
   ],
   "source": [
    "np.array_split(X,2,axis=0)"
   ]
  },
  {
   "cell_type": "code",
   "execution_count": 52,
   "id": "abd554f6",
   "metadata": {},
   "outputs": [
    {
     "ename": "ValueError",
     "evalue": "array split does not result in an equal division",
     "output_type": "error",
     "traceback": [
      "\u001b[1;31m---------------------------------------------------------------------------\u001b[0m",
      "\u001b[1;31mValueError\u001b[0m                                Traceback (most recent call last)",
      "Input \u001b[1;32mIn [52]\u001b[0m, in \u001b[0;36m<cell line: 1>\u001b[1;34m()\u001b[0m\n\u001b[1;32m----> 1\u001b[0m \u001b[43mnp\u001b[49m\u001b[38;5;241;43m.\u001b[39;49m\u001b[43msplit\u001b[49m\u001b[43m(\u001b[49m\u001b[43mX\u001b[49m\u001b[43m,\u001b[49m\u001b[38;5;241;43m2\u001b[39;49m\u001b[43m,\u001b[49m\u001b[43maxis\u001b[49m\u001b[38;5;241;43m=\u001b[39;49m\u001b[38;5;241;43m0\u001b[39;49m\u001b[43m)\u001b[49m\n",
      "File \u001b[1;32m<__array_function__ internals>:180\u001b[0m, in \u001b[0;36msplit\u001b[1;34m(*args, **kwargs)\u001b[0m\n",
      "File \u001b[1;32m~\\AppData\\Local\\Programs\\Python\\Python310\\lib\\site-packages\\numpy\\lib\\shape_base.py:872\u001b[0m, in \u001b[0;36msplit\u001b[1;34m(ary, indices_or_sections, axis)\u001b[0m\n\u001b[0;32m    870\u001b[0m     N \u001b[38;5;241m=\u001b[39m ary\u001b[38;5;241m.\u001b[39mshape[axis]\n\u001b[0;32m    871\u001b[0m     \u001b[38;5;28;01mif\u001b[39;00m N \u001b[38;5;241m%\u001b[39m sections:\n\u001b[1;32m--> 872\u001b[0m         \u001b[38;5;28;01mraise\u001b[39;00m \u001b[38;5;167;01mValueError\u001b[39;00m(\n\u001b[0;32m    873\u001b[0m             \u001b[38;5;124m'\u001b[39m\u001b[38;5;124marray split does not result in an equal division\u001b[39m\u001b[38;5;124m'\u001b[39m) \u001b[38;5;28;01mfrom\u001b[39;00m \u001b[38;5;28mNone\u001b[39m\n\u001b[0;32m    874\u001b[0m \u001b[38;5;28;01mreturn\u001b[39;00m array_split(ary, indices_or_sections, axis)\n",
      "\u001b[1;31mValueError\u001b[0m: array split does not result in an equal division"
     ]
    }
   ],
   "source": [
    "np.split(X,2,axis=0)"
   ]
  },
  {
   "cell_type": "code",
   "execution_count": null,
   "id": "35c9ce27",
   "metadata": {},
   "outputs": [],
   "source": []
  },
  {
   "cell_type": "code",
   "execution_count": null,
   "id": "28d7e069",
   "metadata": {},
   "outputs": [],
   "source": []
  },
  {
   "cell_type": "markdown",
   "id": "51d776c6",
   "metadata": {},
   "source": [
    "## Q7. hstack"
   ]
  },
  {
   "cell_type": "code",
   "execution_count": 3,
   "id": "ac461a4d",
   "metadata": {},
   "outputs": [
    {
     "data": {
      "text/plain": [
       "array([[1, 2, 3],\n",
       "       [4, 5, 6],\n",
       "       [7, 8, 9]])"
      ]
     },
     "execution_count": 3,
     "metadata": {},
     "output_type": "execute_result"
    }
   ],
   "source": [
    "arr = np.array([[1,2,3],\n",
    "               [4,5,6],\n",
    "               [7,8,9]])\n",
    "arr"
   ]
  },
  {
   "cell_type": "code",
   "execution_count": 4,
   "id": "2fc0fca0",
   "metadata": {},
   "outputs": [
    {
     "data": {
      "text/plain": [
       "array([1, 4, 7])"
      ]
     },
     "execution_count": 4,
     "metadata": {},
     "output_type": "execute_result"
    }
   ],
   "source": [
    "arr[:, 0]"
   ]
  },
  {
   "cell_type": "code",
   "execution_count": 6,
   "id": "1b91f52c",
   "metadata": {},
   "outputs": [
    {
     "ename": "ValueError",
     "evalue": "all the input arrays must have same number of dimensions, but the array at index 0 has 2 dimension(s) and the array at index 1 has 1 dimension(s)",
     "output_type": "error",
     "traceback": [
      "\u001b[1;31m---------------------------------------------------------------------------\u001b[0m",
      "\u001b[1;31mValueError\u001b[0m                                Traceback (most recent call last)",
      "Input \u001b[1;32mIn [6]\u001b[0m, in \u001b[0;36m<cell line: 1>\u001b[1;34m()\u001b[0m\n\u001b[1;32m----> 1\u001b[0m \u001b[43mnp\u001b[49m\u001b[38;5;241;43m.\u001b[39;49m\u001b[43mhstack\u001b[49m\u001b[43m(\u001b[49m\u001b[43m(\u001b[49m\u001b[43marr\u001b[49m\u001b[43m,\u001b[49m\u001b[43m \u001b[49m\u001b[43marr\u001b[49m\u001b[43m[\u001b[49m\u001b[43m:\u001b[49m\u001b[43m,\u001b[49m\u001b[43m \u001b[49m\u001b[38;5;241;43m0\u001b[39;49m\u001b[43m]\u001b[49m\u001b[43m)\u001b[49m\u001b[43m)\u001b[49m\u001b[38;5;241m.\u001b[39mshape \u001b[38;5;241m=\u001b[39m (\u001b[38;5;241m3\u001b[39m, \u001b[38;5;241m4\u001b[39m)\n",
      "File \u001b[1;32m<__array_function__ internals>:180\u001b[0m, in \u001b[0;36mhstack\u001b[1;34m(*args, **kwargs)\u001b[0m\n",
      "File \u001b[1;32m~\\AppData\\Local\\Programs\\Python\\Python310\\lib\\site-packages\\numpy\\core\\shape_base.py:345\u001b[0m, in \u001b[0;36mhstack\u001b[1;34m(tup)\u001b[0m\n\u001b[0;32m    343\u001b[0m     \u001b[38;5;28;01mreturn\u001b[39;00m _nx\u001b[38;5;241m.\u001b[39mconcatenate(arrs, \u001b[38;5;241m0\u001b[39m)\n\u001b[0;32m    344\u001b[0m \u001b[38;5;28;01melse\u001b[39;00m:\n\u001b[1;32m--> 345\u001b[0m     \u001b[38;5;28;01mreturn\u001b[39;00m \u001b[43m_nx\u001b[49m\u001b[38;5;241;43m.\u001b[39;49m\u001b[43mconcatenate\u001b[49m\u001b[43m(\u001b[49m\u001b[43marrs\u001b[49m\u001b[43m,\u001b[49m\u001b[43m \u001b[49m\u001b[38;5;241;43m1\u001b[39;49m\u001b[43m)\u001b[49m\n",
      "File \u001b[1;32m<__array_function__ internals>:180\u001b[0m, in \u001b[0;36mconcatenate\u001b[1;34m(*args, **kwargs)\u001b[0m\n",
      "\u001b[1;31mValueError\u001b[0m: all the input arrays must have same number of dimensions, but the array at index 0 has 2 dimension(s) and the array at index 1 has 1 dimension(s)"
     ]
    }
   ],
   "source": [
    "np.hstack((arr, arr[:, 0])).shape = (3, 4)"
   ]
  },
  {
   "cell_type": "code",
   "execution_count": 7,
   "id": "b8d085d9",
   "metadata": {},
   "outputs": [
    {
     "data": {
      "text/plain": [
       "array([[1],\n",
       "       [4],\n",
       "       [7]])"
      ]
     },
     "execution_count": 7,
     "metadata": {},
     "output_type": "execute_result"
    }
   ],
   "source": [
    "arr[:, [0]]"
   ]
  },
  {
   "cell_type": "code",
   "execution_count": 8,
   "id": "1c3cef68",
   "metadata": {},
   "outputs": [
    {
     "data": {
      "text/plain": [
       "(3, 4)"
      ]
     },
     "execution_count": 8,
     "metadata": {},
     "output_type": "execute_result"
    }
   ],
   "source": [
    "np.hstack((arr, arr[:, [0]])).shape"
   ]
  },
  {
   "cell_type": "code",
   "execution_count": 9,
   "id": "3fd2f5cd",
   "metadata": {},
   "outputs": [],
   "source": [
    "np.hstack((arr, arr[:, [0]])).shape= (3, 4)"
   ]
  },
  {
   "cell_type": "code",
   "execution_count": 10,
   "id": "80f9de50",
   "metadata": {},
   "outputs": [
    {
     "data": {
      "text/plain": [
       "(3, 4)"
      ]
     },
     "execution_count": 10,
     "metadata": {},
     "output_type": "execute_result"
    }
   ],
   "source": [
    "np.hstack((arr, arr[:, [0]])).shape"
   ]
  },
  {
   "cell_type": "code",
   "execution_count": 11,
   "id": "b45ae802",
   "metadata": {},
   "outputs": [
    {
     "ename": "ValueError",
     "evalue": "all the input arrays must have same number of dimensions, but the array at index 0 has 2 dimension(s) and the array at index 1 has 1 dimension(s)",
     "output_type": "error",
     "traceback": [
      "\u001b[1;31m---------------------------------------------------------------------------\u001b[0m",
      "\u001b[1;31mValueError\u001b[0m                                Traceback (most recent call last)",
      "Input \u001b[1;32mIn [11]\u001b[0m, in \u001b[0;36m<cell line: 1>\u001b[1;34m()\u001b[0m\n\u001b[1;32m----> 1\u001b[0m \u001b[43mnp\u001b[49m\u001b[38;5;241;43m.\u001b[39;49m\u001b[43mhstack\u001b[49m\u001b[43m(\u001b[49m\u001b[43m(\u001b[49m\u001b[43marr\u001b[49m\u001b[43m,\u001b[49m\u001b[43marr\u001b[49m\u001b[43m[\u001b[49m\u001b[43m:\u001b[49m\u001b[43m,\u001b[49m\u001b[43m \u001b[49m\u001b[38;5;241;43m0\u001b[39;49m\u001b[43m]\u001b[49m\u001b[43m)\u001b[49m\u001b[43m)\u001b[49m\n",
      "File \u001b[1;32m<__array_function__ internals>:180\u001b[0m, in \u001b[0;36mhstack\u001b[1;34m(*args, **kwargs)\u001b[0m\n",
      "File \u001b[1;32m~\\AppData\\Local\\Programs\\Python\\Python310\\lib\\site-packages\\numpy\\core\\shape_base.py:345\u001b[0m, in \u001b[0;36mhstack\u001b[1;34m(tup)\u001b[0m\n\u001b[0;32m    343\u001b[0m     \u001b[38;5;28;01mreturn\u001b[39;00m _nx\u001b[38;5;241m.\u001b[39mconcatenate(arrs, \u001b[38;5;241m0\u001b[39m)\n\u001b[0;32m    344\u001b[0m \u001b[38;5;28;01melse\u001b[39;00m:\n\u001b[1;32m--> 345\u001b[0m     \u001b[38;5;28;01mreturn\u001b[39;00m \u001b[43m_nx\u001b[49m\u001b[38;5;241;43m.\u001b[39;49m\u001b[43mconcatenate\u001b[49m\u001b[43m(\u001b[49m\u001b[43marrs\u001b[49m\u001b[43m,\u001b[49m\u001b[43m \u001b[49m\u001b[38;5;241;43m1\u001b[39;49m\u001b[43m)\u001b[49m\n",
      "File \u001b[1;32m<__array_function__ internals>:180\u001b[0m, in \u001b[0;36mconcatenate\u001b[1;34m(*args, **kwargs)\u001b[0m\n",
      "\u001b[1;31mValueError\u001b[0m: all the input arrays must have same number of dimensions, but the array at index 0 has 2 dimension(s) and the array at index 1 has 1 dimension(s)"
     ]
    }
   ],
   "source": [
    "np.hstack((arr,arr[:, 0]))"
   ]
  },
  {
   "cell_type": "markdown",
   "id": "1b5bde29",
   "metadata": {},
   "source": [
    "## Q8. Changing Dimension"
   ]
  },
  {
   "cell_type": "code",
   "execution_count": 56,
   "id": "5eff5c88",
   "metadata": {},
   "outputs": [
    {
     "data": {
      "text/plain": [
       "array([[1, 2, 3],\n",
       "       [4, 5, 6],\n",
       "       [7, 8, 9]])"
      ]
     },
     "execution_count": 56,
     "metadata": {},
     "output_type": "execute_result"
    }
   ],
   "source": [
    "B = np.array([[1, 2, 3], [4, 5, 6], [7, 8, 9]])\n",
    "B"
   ]
  },
  {
   "cell_type": "code",
   "execution_count": 59,
   "id": "8c4c4cec",
   "metadata": {},
   "outputs": [
    {
     "data": {
      "text/plain": [
       "(3, 3)"
      ]
     },
     "execution_count": 59,
     "metadata": {},
     "output_type": "execute_result"
    }
   ],
   "source": [
    "B.shape"
   ]
  },
  {
   "cell_type": "code",
   "execution_count": 55,
   "id": "b42d70cf",
   "metadata": {},
   "outputs": [
    {
     "data": {
      "text/plain": [
       "array([[[[1]],\n",
       "\n",
       "        [[2]],\n",
       "\n",
       "        [[3]]],\n",
       "\n",
       "\n",
       "       [[[4]],\n",
       "\n",
       "        [[5]],\n",
       "\n",
       "        [[6]]],\n",
       "\n",
       "\n",
       "       [[[7]],\n",
       "\n",
       "        [[8]],\n",
       "\n",
       "        [[9]]]])"
      ]
     },
     "execution_count": 55,
     "metadata": {},
     "output_type": "execute_result"
    }
   ],
   "source": [
    "B = np.expand_dims( B, axis=2)\n",
    "B"
   ]
  },
  {
   "cell_type": "code",
   "execution_count": 60,
   "id": "20f14729",
   "metadata": {},
   "outputs": [
    {
     "data": {
      "text/plain": [
       "(3, 3)"
      ]
     },
     "execution_count": 60,
     "metadata": {},
     "output_type": "execute_result"
    }
   ],
   "source": [
    "B.shape"
   ]
  },
  {
   "cell_type": "code",
   "execution_count": null,
   "id": "34acda64",
   "metadata": {},
   "outputs": [],
   "source": []
  },
  {
   "cell_type": "markdown",
   "id": "b7b4aff7",
   "metadata": {},
   "source": [
    "## Q9. np.all()"
   ]
  },
  {
   "cell_type": "code",
   "execution_count": 33,
   "id": "5e505349",
   "metadata": {},
   "outputs": [
    {
     "data": {
      "text/plain": [
       "array([[[  0,   0,   0],\n",
       "        [  0,   0,   0],\n",
       "        [  0,   0,   0],\n",
       "        [  0,   0,   0]],\n",
       "\n",
       "       [[  0,   0, 255],\n",
       "        [255, 255, 255],\n",
       "        [  0,   0,   0],\n",
       "        [255,   0,   0]]])"
      ]
     },
     "execution_count": 33,
     "metadata": {},
     "output_type": "execute_result"
    }
   ],
   "source": [
    "a = np.array([[[ 0, 0, 0],\n",
    " [ 0, 0, 0],\n",
    " [ 0, 0, 0],\n",
    " [ 0, 0, 0]],\n",
    "[[ 0, 0, 255],\n",
    " [255, 255, 255],\n",
    " [ 0, 0, 0],\n",
    " [255, 0, 0]]])\n",
    "a"
   ]
  },
  {
   "cell_type": "code",
   "execution_count": 34,
   "id": "8eab1625",
   "metadata": {},
   "outputs": [
    {
     "data": {
      "text/plain": [
       "(2, 4, 3)"
      ]
     },
     "execution_count": 34,
     "metadata": {},
     "output_type": "execute_result"
    }
   ],
   "source": [
    "a.shape"
   ]
  },
  {
   "cell_type": "code",
   "execution_count": 39,
   "id": "75bb1bc8",
   "metadata": {},
   "outputs": [
    {
     "data": {
      "text/plain": [
       "3"
      ]
     },
     "execution_count": 39,
     "metadata": {},
     "output_type": "execute_result"
    }
   ],
   "source": [
    "a.ndim"
   ]
  },
  {
   "cell_type": "code",
   "execution_count": 21,
   "id": "3bae253f",
   "metadata": {},
   "outputs": [
    {
     "data": {
      "text/plain": [
       "array([255,   0, 255])"
      ]
     },
     "execution_count": 21,
     "metadata": {},
     "output_type": "execute_result"
    }
   ],
   "source": [
    "b = np.array([255, 0, 255])\n",
    "b"
   ]
  },
  {
   "cell_type": "code",
   "execution_count": 38,
   "id": "fadac698",
   "metadata": {},
   "outputs": [
    {
     "data": {
      "text/plain": [
       "1"
      ]
     },
     "execution_count": 38,
     "metadata": {},
     "output_type": "execute_result"
    }
   ],
   "source": [
    "b.ndim"
   ]
  },
  {
   "cell_type": "code",
   "execution_count": 40,
   "id": "c81cd3f4",
   "metadata": {},
   "outputs": [
    {
     "data": {
      "text/plain": [
       "array([[False,  True, False],\n",
       "       [False, False, False]])"
      ]
     },
     "execution_count": 40,
     "metadata": {},
     "output_type": "execute_result"
    }
   ],
   "source": [
    "c = np.all(a == b, axis = 1)\n",
    "c"
   ]
  },
  {
   "cell_type": "markdown",
   "id": "d883c7d3",
   "metadata": {},
   "source": [
    "## Q10. Diagonals of 2D array"
   ]
  },
  {
   "cell_type": "code",
   "execution_count": 12,
   "id": "efc9d39f",
   "metadata": {},
   "outputs": [
    {
     "data": {
      "text/plain": [
       "array([[ 2,  3,  4,  5],\n",
       "       [ 1,  7,  3,  5],\n",
       "       [ 2,  8,  6,  9],\n",
       "       [11, 23, 12, 19]])"
      ]
     },
     "execution_count": 12,
     "metadata": {},
     "output_type": "execute_result"
    }
   ],
   "source": [
    "arr= np.array([[2,3,4,5],[1,7,3,5],[2,8,6,9],[11,23,12,19]])\n",
    "arr"
   ]
  },
  {
   "cell_type": "code",
   "execution_count": 13,
   "id": "06fa38ba",
   "metadata": {},
   "outputs": [
    {
     "data": {
      "text/plain": [
       "array([[ 2,  3,  4,  5],\n",
       "       [ 0,  7,  3,  5],\n",
       "       [ 0,  0,  6,  9],\n",
       "       [ 0,  0,  0, 19]])"
      ]
     },
     "execution_count": 13,
     "metadata": {},
     "output_type": "execute_result"
    }
   ],
   "source": [
    "np.triu(arr)"
   ]
  },
  {
   "cell_type": "code",
   "execution_count": 14,
   "id": "6b41e5e5",
   "metadata": {},
   "outputs": [
    {
     "data": {
      "text/plain": [
       "array([[ 2,  0,  0,  0],\n",
       "       [ 1,  7,  0,  0],\n",
       "       [ 2,  8,  6,  0],\n",
       "       [11, 23, 12, 19]])"
      ]
     },
     "execution_count": 14,
     "metadata": {},
     "output_type": "execute_result"
    }
   ],
   "source": [
    "np.tril(arr)"
   ]
  },
  {
   "cell_type": "code",
   "execution_count": 15,
   "id": "905b2327",
   "metadata": {},
   "outputs": [
    {
     "data": {
      "text/plain": [
       "array([3, 3, 9])"
      ]
     },
     "execution_count": 15,
     "metadata": {},
     "output_type": "execute_result"
    }
   ],
   "source": [
    "np.diag(arr, k=1)"
   ]
  },
  {
   "cell_type": "code",
   "execution_count": 16,
   "id": "1a505198",
   "metadata": {},
   "outputs": [
    {
     "data": {
      "text/plain": [
       "array([[ 2,  0,  0,  0],\n",
       "       [ 0,  7,  0,  0],\n",
       "       [ 0,  0,  6,  0],\n",
       "       [ 0,  0,  0, 19]])"
      ]
     },
     "execution_count": 16,
     "metadata": {},
     "output_type": "execute_result"
    }
   ],
   "source": [
    "arr*np.eye(arr.shape[1], dtype=int)"
   ]
  },
  {
   "cell_type": "markdown",
   "id": "920fe324",
   "metadata": {},
   "source": [
    "## Q12. Original Matrix Retrieval"
   ]
  },
  {
   "cell_type": "code",
   "execution_count": null,
   "id": "1b1b6390",
   "metadata": {},
   "outputs": [],
   "source": []
  },
  {
   "cell_type": "markdown",
   "id": "baebdefb",
   "metadata": {},
   "source": [
    "## Q13. Trial softmax"
   ]
  },
  {
   "attachments": {
    "image.png": {
     "image/png": "[encoded data removed]"
    }
   },
   "cell_type": "markdown",
   "id": "d78d0f2a",
   "metadata": {},
   "source": [
    "![image.png](attachment:image.png)"
   ]
  },
  {
   "cell_type": "code",
   "execution_count": 64,
   "id": "e4eaa5fe",
   "metadata": {},
   "outputs": [
    {
     "data": {
      "text/plain": [
       "array([0.826, 0.015, 0.112, 0.041, 0.006])"
      ]
     },
     "execution_count": 64,
     "metadata": {},
     "output_type": "execute_result"
    }
   ],
   "source": [
    "a = np.array([6, 2, 4, 3, 1])\n",
    "denominator  = np.sum(np.exp(a))\n",
    "np.round(np.exp(a)/denominator, decimals=3)"
   ]
  },
  {
   "cell_type": "code",
   "execution_count": null,
   "id": "b9724a79",
   "metadata": {},
   "outputs": [],
   "source": []
  },
  {
   "cell_type": "code",
   "execution_count": null,
   "id": "813f2dfa",
   "metadata": {},
   "outputs": [],
   "source": []
  },
  {
   "cell_type": "markdown",
   "id": "b350755f",
   "metadata": {},
   "source": [
    "## Q14. Specific elements"
   ]
  },
  {
   "attachments": {
    "image.png": {
     "image/png": "[encoded data removed]"
    }
   },
   "cell_type": "markdown",
   "id": "7a261c9c",
   "metadata": {},
   "source": [
    "![image.png](attachment:image.png)"
   ]
  },
  {
   "cell_type": "code",
   "execution_count": 66,
   "id": "26d91820",
   "metadata": {},
   "outputs": [],
   "source": [
    "\n",
    "def mse(A,B):\n",
    "    '''A,B -> Numpy arrays\n",
    "       output -> A float rounded up to 2 decimal points should be returned'''\n",
    "    # YOUR CODE GOES HERE\n",
    "    return np.sum((A + B) ** 2) / len(A)"
   ]
  },
  {
   "cell_type": "code",
   "execution_count": 68,
   "id": "01c61f96",
   "metadata": {},
   "outputs": [
    {
     "data": {
      "text/plain": [
       "20.09606"
      ]
     },
     "execution_count": 68,
     "metadata": {},
     "output_type": "execute_result"
    }
   ],
   "source": [
    "a = np.array([1,1,2,2,4])\n",
    "b = np.array([0.6,1.29,1.99,2.69,3.4])\n",
    "mse(a, b)"
   ]
  },
  {
   "cell_type": "code",
   "execution_count": 69,
   "id": "cc6f319f",
   "metadata": {},
   "outputs": [
    {
     "data": {
      "text/plain": [
       "5"
      ]
     },
     "execution_count": 69,
     "metadata": {},
     "output_type": "execute_result"
    }
   ],
   "source": [
    "len(a)"
   ]
  },
  {
   "cell_type": "markdown",
   "id": "9ebfaf7b",
   "metadata": {},
   "source": [
    "##  Sigmoid values"
   ]
  },
  {
   "attachments": {
    "image.png": {
     "image/png": "[encoded data removed]"
    }
   },
   "cell_type": "markdown",
   "id": "27c47e4e",
   "metadata": {},
   "source": [
    "![image.png](attachment:image.png)"
   ]
  },
  {
   "cell_type": "code",
   "execution_count": 74,
   "id": "fec81331",
   "metadata": {},
   "outputs": [],
   "source": [
    "import numpy as np\n",
    "def sigmoid(arr):\n",
    "    '''arr -> A numpy array\n",
    "       Output -> A numpy array of same dimensions as arr is expected to be returned'''\n",
    "\n",
    "    # YOUR CODE GOES HERE\n",
    "    return  np.round((1 / (1 + np.exp(-arr))), 2)"
   ]
  },
  {
   "cell_type": "code",
   "execution_count": 75,
   "id": "ed9d90f7",
   "metadata": {},
   "outputs": [
    {
     "data": {
      "text/plain": [
       "array([0.12, 0.27, 0.5 , 0.73, 0.88])"
      ]
     },
     "execution_count": 75,
     "metadata": {},
     "output_type": "execute_result"
    }
   ],
   "source": [
    "sigmoid(np.array([-2, -1, 0, 1, 2]))"
   ]
  },
  {
   "cell_type": "code",
   "execution_count": null,
   "id": "70302004",
   "metadata": {},
   "outputs": [],
   "source": []
  }
 ],
 "metadata": {
  "kernelspec": {
   "display_name": "Python 3 (ipykernel)",
   "language": "python",
   "name": "python3"
  },
  "language_info": {
   "codemirror_mode": {
    "name": "ipython",
    "version": 3
   },
   "file_extension": ".py",
   "mimetype": "text/x-python",
   "name": "python",
   "nbconvert_exporter": "python",
   "pygments_lexer": "ipython3",
   "version": "3.10.4"
  }
 },
 "nbformat": 4,
 "nbformat_minor": 5
}
