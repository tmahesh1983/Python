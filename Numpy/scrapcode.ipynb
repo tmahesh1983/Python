{
 "cells": [
  {
   "cell_type": "code",
   "execution_count": 1,
   "id": "45cee80d",
   "metadata": {},
   "outputs": [],
   "source": [
    "import csv\n",
    "import os\n",
    "import requests\n",
    "from bs4 import BeautifulSoup\n",
    " \n",
    "baseurl = \"http://books.toscrape.com/catalogue/category/books/travel_2/index.html\"\n",
    " \n",
    "r = requests.get(baseurl)\n",
    " \n",
    "books_soup = BeautifulSoup(r.content, features=\"html.parser\")\n",
    " \n",
    "data = {\"product_page_url\": [],\n",
    "       \"title\": [],\n",
    "       \"universal_product_code\": [],\n",
    "       \"price_including_tax\": [],\n",
    "       \"price_excluding_tax\": [],\n",
    "       \"number_available\": [],\n",
    "       \"category\": [],\n",
    "       \"review_rating\": []\n",
    "       }\n",
    "\n",
    "book_page_lists = books_soup.find(\"ol\", class_=\"row\").find_all(\"li\")\n",
    " \n",
    "for li in book_page_lists:\n",
    "   href_split = li.a['href'].split(\"/\")[3:]\n",
    "   book_page_link = \"http://books.toscrape.com/catalogue/\" + \"/\".join(href_split)\n",
    "   req = requests.get(book_page_link)\n",
    "   soup = BeautifulSoup(req.content, features=\"html.parser\")\n",
    " \n",
    "   data['product_page_url'].append(book_page_link)\n",
    " \n",
    "   table = soup.find(\"table\")\n",
    "   rows = table.find_all(\"tr\")\n",
    " \n",
    "   title = soup.find(\"title\").text.strip()\n",
    "   desc = soup.find(\"article\", class_= \"product_page\").find_all(\"p\")[3].text.strip()\n",
    "   category = soup.find(\"ul\", class_=\"breadcrumb\").find_all(\"li\")[2].a.text.strip()\n",
    "   review_rating = soup.find(\"p\", class_=\"star-rating\")['class'][1]\n",
    " \n",
    "   data[\"title\"].append(title)\n",
    "   data[\"universal_product_code\"].append(rows[0].find(\"td\").text.strip())\n",
    "   data[\"price_excluding_tax\"].append(rows[2].find(\"td\").text.strip())\n",
    "   data[\"price_including_tax\"].append(rows[3].find(\"td\").text.strip())\n",
    "   data[\"number_available\"].append(rows[5].find(\"td\").text.strip())\n",
    "   data[\"category\"].append(category)\n",
    "   data[\"review_rating\"].append(review_rating)\n",
    "\n",
    "import pandas as pd \n",
    "df = pd.DataFrame(data = data)\n",
    "df.to_csv(\"sub.csv\", index = False)"
   ]
  },
  {
   "cell_type": "code",
   "execution_count": null,
   "id": "04b5593b",
   "metadata": {},
   "outputs": [],
   "source": []
  }
 ],
 "metadata": {
  "kernelspec": {
   "display_name": "Python 3 (ipykernel)",
   "language": "python",
   "name": "python3"
  },
  "language_info": {
   "codemirror_mode": {
    "name": "ipython",
    "version": 3
   },
   "file_extension": ".py",
   "mimetype": "text/x-python",
   "name": "python",
   "nbconvert_exporter": "python",
   "pygments_lexer": "ipython3",
   "version": "3.10.4"
  }
 },
 "nbformat": 4,
 "nbformat_minor": 5
}
