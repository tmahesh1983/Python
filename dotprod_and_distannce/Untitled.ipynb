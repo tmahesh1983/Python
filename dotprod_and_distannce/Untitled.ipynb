{
 "cells": [
  {
   "cell_type": "markdown",
   "id": "4de14948",
   "metadata": {},
   "source": [
    "## Anagram List"
   ]
  },
  {
   "cell_type": "code",
   "execution_count": 11,
   "id": "c552f081",
   "metadata": {},
   "outputs": [],
   "source": [
    "def allAnagram(input):\n",
    "     \n",
    "    # empty dictionary which holds subsets\n",
    "    # of all anagrams together\n",
    "    dict = {}\n",
    " \n",
    "    # traverse list of strings\n",
    "    for strVal in input:\n",
    "        # sorted(iterable) method accepts any\n",
    "        # iterable and returns list of items\n",
    "        # in ascending order\n",
    "        key = ''.join(sorted(strVal))\n",
    "\n",
    "        # now check if key exist in dictionary\n",
    "        # or not. If yes then simply append the\n",
    "        # strVal into the list of it's corresponding\n",
    "        # key. If not then map empty list onto\n",
    "        # key and then start appending values\n",
    "        if key in dict.keys():\n",
    "            dict[key].append(strVal)\n",
    "        else:\n",
    "            dict[key] = []\n",
    "            dict[key].append(strVal)\n",
    " \n",
    "    # traverse dictionary and concatenate values\n",
    "    # of keys together\n",
    "    output = \"\"\n",
    "    print('dict         ---->', dict)\n",
    "    print('dict.items() ---->', dict.items())\n",
    "    for key,value in dict.items():\n",
    "        output = output + ' '.join(value) + ' '        \n",
    " \n",
    "    return output"
   ]
  },
  {
   "cell_type": "code",
   "execution_count": null,
   "id": "b234b0a3",
   "metadata": {},
   "outputs": [],
   "source": [
    "# Driver function\n",
    "if __name__ == \"__main__\":\n",
    "    input=['cat', 'dog', 'tac', 'god', 'act']\n",
    "    print (allAnagram(input))"
   ]
  },
  {
   "cell_type": "markdown",
   "id": "19a3528e",
   "metadata": {},
   "source": [
    "## Moving average"
   ]
  },
  {
   "cell_type": "code",
   "execution_count": null,
   "id": "df8268c9",
   "metadata": {},
   "outputs": [],
   "source": [
    "arr = [1, 2, 3, 7, 9]\n",
    "window_size = 3\n",
    "  \n",
    "i = 0\n",
    "# Initialize an empty list to store moving averages\n",
    "moving_averages = []\n",
    "  \n",
    "# Loop through the array to consider\n",
    "# every window of size 3\n",
    "while i < len(arr) - window_size + 1:\n",
    "    \n",
    "    # Store elements from i to i+window_size\n",
    "    # in list to get the current window\n",
    "    window = arr[i : i + window_size]\n",
    "  \n",
    "    # Calculate the average of current window\n",
    "    window_average = round(sum(window) / window_size, 2)\n",
    "      \n",
    "    # Store the average of current\n",
    "    # window in moving average list\n",
    "    moving_averages.append(window_average)\n",
    "      \n",
    "    # Shift window to right by one position\n",
    "    i += 1\n",
    "  \n",
    "print(moving_averages)"
   ]
  }
 ],
 "metadata": {
  "kernelspec": {
   "display_name": "Python 3 (ipykernel)",
   "language": "python",
   "name": "python3"
  },
  "language_info": {
   "codemirror_mode": {
    "name": "ipython",
    "version": 3
   },
   "file_extension": ".py",
   "mimetype": "text/x-python",
   "name": "python",
   "nbconvert_exporter": "python",
   "pygments_lexer": "ipython3",
   "version": "3.10.4"
  }
 },
 "nbformat": 4,
 "nbformat_minor": 5
}
