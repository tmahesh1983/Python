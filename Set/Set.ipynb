{
 "cells": [
  {
   "cell_type": "markdown",
   "id": "a96e80cb",
   "metadata": {},
   "source": [
    "## Set"
   ]
  },
  {
   "cell_type": "markdown",
   "id": "b0fca637",
   "metadata": {},
   "source": [
    "#### properties of set\n",
    "\n",
    "* Unique\n",
    "* Unordered\n",
    "* Mutable\n",
    "* Only immutable elements are allowed to add/update\n",
    "* It uses hashing to store the data"
   ]
  },
  {
   "cell_type": "code",
   "execution_count": 2,
   "id": "e709bea6",
   "metadata": {},
   "outputs": [
    {
     "name": "stdout",
     "output_type": "stream",
     "text": [
      "{1, 2, 3, 4, 5}\n"
     ]
    }
   ],
   "source": [
    "s1 = {1, 2, 3, 4, 5}\n",
    "print(s1)"
   ]
  },
  {
   "cell_type": "code",
   "execution_count": 3,
   "id": "483b8555",
   "metadata": {},
   "outputs": [
    {
     "name": "stdout",
     "output_type": "stream",
     "text": [
      "{1, 2, 3, 4, 5}\n"
     ]
    }
   ],
   "source": [
    "s2 = {1, 2, 2, 3, 4, 5, 5, 4, 3}\n",
    "print(s2)"
   ]
  },
  {
   "cell_type": "markdown",
   "id": "ee7d9afb",
   "metadata": {},
   "source": [
    "### Add a element"
   ]
  },
  {
   "cell_type": "code",
   "execution_count": 5,
   "id": "0d1c4af1",
   "metadata": {},
   "outputs": [
    {
     "data": {
      "text/plain": [
       "{1, 2, 3, 4, 5, 6}"
      ]
     },
     "execution_count": 5,
     "metadata": {},
     "output_type": "execute_result"
    }
   ],
   "source": [
    "s1.add(6)\n",
    "s1"
   ]
  },
  {
   "cell_type": "code",
   "execution_count": 8,
   "id": "e7449e4a",
   "metadata": {},
   "outputs": [
    {
     "ename": "TypeError",
     "evalue": "unhashable type: 'set'",
     "output_type": "error",
     "traceback": [
      "\u001b[1;31m---------------------------------------------------------------------------\u001b[0m",
      "\u001b[1;31mTypeError\u001b[0m                                 Traceback (most recent call last)",
      "Input \u001b[1;32mIn [8]\u001b[0m, in \u001b[0;36m<cell line: 1>\u001b[1;34m()\u001b[0m\n\u001b[1;32m----> 1\u001b[0m \u001b[43ms1\u001b[49m\u001b[38;5;241;43m.\u001b[39;49m\u001b[43madd\u001b[49m\u001b[43m(\u001b[49m\u001b[43m{\u001b[49m\u001b[38;5;241;43m7\u001b[39;49m\u001b[43m,\u001b[49m\u001b[43m \u001b[49m\u001b[38;5;241;43m8\u001b[39;49m\u001b[43m,\u001b[49m\u001b[43m \u001b[49m\u001b[38;5;241;43m9\u001b[39;49m\u001b[43m}\u001b[49m\u001b[43m)\u001b[49m\n",
      "\u001b[1;31mTypeError\u001b[0m: unhashable type: 'set'"
     ]
    }
   ],
   "source": [
    "s1.add(7, 8, 9)"
   ]
  },
  {
   "cell_type": "markdown",
   "id": "7e8405b5",
   "metadata": {},
   "source": [
    "### Update multiple elements"
   ]
  },
  {
   "cell_type": "code",
   "execution_count": 10,
   "id": "4ca2a9ea",
   "metadata": {},
   "outputs": [
    {
     "data": {
      "text/plain": [
       "{1, 2, 3, 4, 5, 6, 7, 8, 9}"
      ]
     },
     "execution_count": 10,
     "metadata": {},
     "output_type": "execute_result"
    }
   ],
   "source": [
    "s1.update({7, 8, 9})\n",
    "s1"
   ]
  },
  {
   "cell_type": "code",
   "execution_count": 18,
   "id": "6b9a0ed2",
   "metadata": {},
   "outputs": [
    {
     "ename": "TypeError",
     "evalue": "'int' object is not iterable",
     "output_type": "error",
     "traceback": [
      "\u001b[1;31m---------------------------------------------------------------------------\u001b[0m",
      "\u001b[1;31mTypeError\u001b[0m                                 Traceback (most recent call last)",
      "Input \u001b[1;32mIn [18]\u001b[0m, in \u001b[0;36m<cell line: 1>\u001b[1;34m()\u001b[0m\n\u001b[1;32m----> 1\u001b[0m \u001b[43ms1\u001b[49m\u001b[38;5;241;43m.\u001b[39;49m\u001b[43mupdate\u001b[49m\u001b[43m(\u001b[49m\u001b[38;5;241;43m7\u001b[39;49m\u001b[43m,\u001b[49m\u001b[43m \u001b[49m\u001b[38;5;241;43m8\u001b[39;49m\u001b[43m,\u001b[49m\u001b[43m \u001b[49m\u001b[38;5;241;43m9\u001b[39;49m\u001b[43m)\u001b[49m\n\u001b[0;32m      2\u001b[0m s1\n",
      "\u001b[1;31mTypeError\u001b[0m: 'int' object is not iterable"
     ]
    }
   ],
   "source": [
    "s1.update(7, 8, 9)\n",
    "s1\n",
    "# Update alwasys require iterable"
   ]
  },
  {
   "cell_type": "markdown",
   "id": "092cb217",
   "metadata": {},
   "source": [
    "### Adding tuple/list to set"
   ]
  },
  {
   "cell_type": "code",
   "execution_count": 12,
   "id": "babc7206",
   "metadata": {},
   "outputs": [
    {
     "data": {
      "text/plain": [
       "{(10, 11), 1, 2, 3, 4, 5, 6, 7, 8, 9}"
      ]
     },
     "execution_count": 12,
     "metadata": {},
     "output_type": "execute_result"
    }
   ],
   "source": [
    "s1.add((10, 11))\n",
    "s1"
   ]
  },
  {
   "cell_type": "code",
   "execution_count": 14,
   "id": "52fc3708",
   "metadata": {},
   "outputs": [
    {
     "ename": "TypeError",
     "evalue": "unhashable type: 'list'",
     "output_type": "error",
     "traceback": [
      "\u001b[1;31m---------------------------------------------------------------------------\u001b[0m",
      "\u001b[1;31mTypeError\u001b[0m                                 Traceback (most recent call last)",
      "Input \u001b[1;32mIn [14]\u001b[0m, in \u001b[0;36m<cell line: 1>\u001b[1;34m()\u001b[0m\n\u001b[1;32m----> 1\u001b[0m \u001b[43ms1\u001b[49m\u001b[38;5;241;43m.\u001b[39;49m\u001b[43madd\u001b[49m\u001b[43m(\u001b[49m\u001b[43m[\u001b[49m\u001b[38;5;241;43m20\u001b[39;49m\u001b[43m,\u001b[49m\u001b[43m \u001b[49m\u001b[38;5;241;43m21\u001b[39;49m\u001b[43m]\u001b[49m\u001b[43m)\u001b[49m\n\u001b[0;32m      2\u001b[0m s1\n",
      "\u001b[1;31mTypeError\u001b[0m: unhashable type: 'list'"
     ]
    }
   ],
   "source": [
    "s1.add([20, 21])\n",
    "s1\n",
    "\n",
    "#Since List is mutable, list/dict are not allowed to add it into set"
   ]
  },
  {
   "cell_type": "code",
   "execution_count": 16,
   "id": "d974806a",
   "metadata": {},
   "outputs": [
    {
     "data": {
      "text/plain": [
       "{(10, 11), 1, 2, 20, 21, 3, 4, 5, 6, 7, 8, 9}"
      ]
     },
     "execution_count": 16,
     "metadata": {},
     "output_type": "execute_result"
    }
   ],
   "source": [
    "s1.update([20, 21])\n",
    "s1\n",
    "\n",
    "# Update unflod the element from list then add as individual element"
   ]
  },
  {
   "cell_type": "markdown",
   "id": "49ce662d",
   "metadata": {},
   "source": [
    "### Remove"
   ]
  },
  {
   "cell_type": "code",
   "execution_count": 19,
   "id": "fb3955b4",
   "metadata": {},
   "outputs": [
    {
     "data": {
      "text/plain": [
       "{(10, 11), 1, 2, 20, 21, 3, 4, 5, 6, 7, 8}"
      ]
     },
     "execution_count": 19,
     "metadata": {},
     "output_type": "execute_result"
    }
   ],
   "source": [
    "s1.remove(9)\n",
    "s1"
   ]
  },
  {
   "cell_type": "code",
   "execution_count": 24,
   "id": "f1a414b3",
   "metadata": {},
   "outputs": [
    {
     "data": {
      "text/plain": [
       "{(10, 11), 1, 2, 20, 21, 3, 4, 5, 6, 7}"
      ]
     },
     "execution_count": 24,
     "metadata": {},
     "output_type": "execute_result"
    }
   ],
   "source": [
    "s1.discard(8)\n",
    "s1"
   ]
  },
  {
   "cell_type": "markdown",
   "id": "373d4533",
   "metadata": {},
   "source": [
    "### UFunc"
   ]
  },
  {
   "cell_type": "code",
   "execution_count": 20,
   "id": "a1424f43",
   "metadata": {},
   "outputs": [
    {
     "data": {
      "text/plain": [
       "11"
      ]
     },
     "execution_count": 20,
     "metadata": {},
     "output_type": "execute_result"
    }
   ],
   "source": [
    "len(s1)"
   ]
  },
  {
   "cell_type": "code",
   "execution_count": 23,
   "id": "2b1bc972",
   "metadata": {},
   "outputs": [
    {
     "name": "stdout",
     "output_type": "stream",
     "text": [
      "1\n",
      "2\n",
      "3\n",
      "4\n",
      "5\n",
      "6\n",
      "7\n",
      "8\n",
      "(10, 11)\n",
      "20\n",
      "21\n"
     ]
    }
   ],
   "source": [
    "for ele in s1:\n",
    "    print(ele)"
   ]
  },
  {
   "cell_type": "markdown",
   "id": "886deff2",
   "metadata": {},
   "source": [
    "## Converting list to set"
   ]
  },
  {
   "cell_type": "code",
   "execution_count": 25,
   "id": "e60d6354",
   "metadata": {},
   "outputs": [
    {
     "data": {
      "text/plain": [
       "[1, 2, 3, 4, 4, 5, 6, 6]"
      ]
     },
     "execution_count": 25,
     "metadata": {},
     "output_type": "execute_result"
    }
   ],
   "source": [
    "a = [1, 2, 3, 4, 4, 5, 6, 6]\n",
    "a"
   ]
  },
  {
   "cell_type": "code",
   "execution_count": 26,
   "id": "1aea6e51",
   "metadata": {},
   "outputs": [
    {
     "data": {
      "text/plain": [
       "{1, 2, 3, 4, 5, 6}"
      ]
     },
     "execution_count": 26,
     "metadata": {},
     "output_type": "execute_result"
    }
   ],
   "source": [
    "s = set(a)\n",
    "s"
   ]
  },
  {
   "cell_type": "markdown",
   "id": "d3433218",
   "metadata": {},
   "source": [
    "## in Operation"
   ]
  },
  {
   "cell_type": "code",
   "execution_count": 27,
   "id": "551e6c3f",
   "metadata": {},
   "outputs": [
    {
     "data": {
      "text/plain": [
       "True"
      ]
     },
     "execution_count": 27,
     "metadata": {},
     "output_type": "execute_result"
    }
   ],
   "source": [
    "5 in s"
   ]
  },
  {
   "cell_type": "code",
   "execution_count": 28,
   "id": "b3115d13",
   "metadata": {},
   "outputs": [
    {
     "ename": "TypeError",
     "evalue": "unhashable type: 'list'",
     "output_type": "error",
     "traceback": [
      "\u001b[1;31m---------------------------------------------------------------------------\u001b[0m",
      "\u001b[1;31mTypeError\u001b[0m                                 Traceback (most recent call last)",
      "Input \u001b[1;32mIn [28]\u001b[0m, in \u001b[0;36m<cell line: 1>\u001b[1;34m()\u001b[0m\n\u001b[1;32m----> 1\u001b[0m set_a \u001b[38;5;241m=\u001b[39m {\u001b[38;5;241m1\u001b[39m, \u001b[38;5;124m'\u001b[39m\u001b[38;5;124mscaler\u001b[39m\u001b[38;5;124m'\u001b[39m, [\u001b[38;5;124m'\u001b[39m\u001b[38;5;124mone\u001b[39m\u001b[38;5;124m'\u001b[39m, \u001b[38;5;124m'\u001b[39m\u001b[38;5;124mpie\u001b[39m\u001b[38;5;124m'\u001b[39m], \u001b[38;5;28;01mFalse\u001b[39;00m}\n\u001b[0;32m      2\u001b[0m \u001b[38;5;28mprint\u001b[39m(set_a)\n",
      "\u001b[1;31mTypeError\u001b[0m: unhashable type: 'list'"
     ]
    }
   ],
   "source": [
    "set_a = {1, 'scaler', ['one', 'pie'], False}\n",
    "print(set_a)"
   ]
  },
  {
   "cell_type": "markdown",
   "id": "298f5302",
   "metadata": {},
   "source": [
    "### Frozendset\n",
    "\n",
    "* immutable set"
   ]
  },
  {
   "cell_type": "code",
   "execution_count": 29,
   "id": "81ef33a4",
   "metadata": {},
   "outputs": [
    {
     "data": {
      "text/plain": [
       "frozenset({1, 2, 3})"
      ]
     },
     "execution_count": 29,
     "metadata": {},
     "output_type": "execute_result"
    }
   ],
   "source": [
    "fs = frozenset([1, 2, 3])\n",
    "fs"
   ]
  },
  {
   "cell_type": "code",
   "execution_count": null,
   "id": "879c063b",
   "metadata": {},
   "outputs": [],
   "source": []
  }
 ],
 "metadata": {
  "kernelspec": {
   "display_name": "Python 3 (ipykernel)",
   "language": "python",
   "name": "python3"
  },
  "language_info": {
   "codemirror_mode": {
    "name": "ipython",
    "version": 3
   },
   "file_extension": ".py",
   "mimetype": "text/x-python",
   "name": "python",
   "nbconvert_exporter": "python",
   "pygments_lexer": "ipython3",
   "version": "3.10.4"
  }
 },
 "nbformat": 4,
 "nbformat_minor": 5
}
