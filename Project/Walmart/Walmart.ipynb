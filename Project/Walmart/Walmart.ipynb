{
 "cells": [
  {
   "cell_type": "markdown",
   "id": "bc98197a",
   "metadata": {},
   "source": [
    "## Problem Statement\n",
    "\n",
    "Analyze the customer purchase behavior (specifically, purchase amount) against the customer’s gender and the various other factors to thr management team at Walmart team to make the better business decisions. They want to understand if the spending habits differ between male and female customers: Do women spend more on Black Friday than men?"
   ]
  },
  {
   "cell_type": "markdown",
   "id": "50229fe8",
   "metadata": {},
   "source": [
    "## Importing libraries"
   ]
  },
  {
   "cell_type": "code",
   "execution_count": 1,
   "id": "5ca605d5",
   "metadata": {},
   "outputs": [],
   "source": [
    "import pandas as pd\n",
    "import numpy as np\n",
    "import matplotlib.pyplot as plt\n",
    "import seaborn as sns"
   ]
  },
  {
   "cell_type": "markdown",
   "id": "2c96a832",
   "metadata": {},
   "source": [
    "## 1.Loading the dataset"
   ]
  },
  {
   "cell_type": "code",
   "execution_count": 2,
   "id": "6414ef82",
   "metadata": {},
   "outputs": [
    {
     "data": {
      "text/html": [
       "<div>\n",
       "<style scoped>\n",
       "    .dataframe tbody tr th:only-of-type {\n",
       "        vertical-align: middle;\n",
       "    }\n",
       "\n",
       "    .dataframe tbody tr th {\n",
       "        vertical-align: top;\n",
       "    }\n",
       "\n",
       "    .dataframe thead th {\n",
       "        text-align: right;\n",
       "    }\n",
       "</style>\n",
       "<table border=\"1\" class=\"dataframe\">\n",
       "  <thead>\n",
       "    <tr style=\"text-align: right;\">\n",
       "      <th></th>\n",
       "      <th>User_ID</th>\n",
       "      <th>Product_ID</th>\n",
       "      <th>Gender</th>\n",
       "      <th>Age</th>\n",
       "      <th>Occupation</th>\n",
       "      <th>City_Category</th>\n",
       "      <th>Stay_In_Current_City_Years</th>\n",
       "      <th>Marital_Status</th>\n",
       "      <th>Product_Category</th>\n",
       "      <th>Purchase</th>\n",
       "    </tr>\n",
       "  </thead>\n",
       "  <tbody>\n",
       "    <tr>\n",
       "      <th>0</th>\n",
       "      <td>1000001</td>\n",
       "      <td>P00069042</td>\n",
       "      <td>F</td>\n",
       "      <td>0-17</td>\n",
       "      <td>10</td>\n",
       "      <td>A</td>\n",
       "      <td>2</td>\n",
       "      <td>0</td>\n",
       "      <td>3</td>\n",
       "      <td>8370</td>\n",
       "    </tr>\n",
       "    <tr>\n",
       "      <th>1</th>\n",
       "      <td>1000001</td>\n",
       "      <td>P00248942</td>\n",
       "      <td>F</td>\n",
       "      <td>0-17</td>\n",
       "      <td>10</td>\n",
       "      <td>A</td>\n",
       "      <td>2</td>\n",
       "      <td>0</td>\n",
       "      <td>1</td>\n",
       "      <td>15200</td>\n",
       "    </tr>\n",
       "    <tr>\n",
       "      <th>2</th>\n",
       "      <td>1000001</td>\n",
       "      <td>P00087842</td>\n",
       "      <td>F</td>\n",
       "      <td>0-17</td>\n",
       "      <td>10</td>\n",
       "      <td>A</td>\n",
       "      <td>2</td>\n",
       "      <td>0</td>\n",
       "      <td>12</td>\n",
       "      <td>1422</td>\n",
       "    </tr>\n",
       "    <tr>\n",
       "      <th>3</th>\n",
       "      <td>1000001</td>\n",
       "      <td>P00085442</td>\n",
       "      <td>F</td>\n",
       "      <td>0-17</td>\n",
       "      <td>10</td>\n",
       "      <td>A</td>\n",
       "      <td>2</td>\n",
       "      <td>0</td>\n",
       "      <td>12</td>\n",
       "      <td>1057</td>\n",
       "    </tr>\n",
       "    <tr>\n",
       "      <th>4</th>\n",
       "      <td>1000002</td>\n",
       "      <td>P00285442</td>\n",
       "      <td>M</td>\n",
       "      <td>55+</td>\n",
       "      <td>16</td>\n",
       "      <td>C</td>\n",
       "      <td>4+</td>\n",
       "      <td>0</td>\n",
       "      <td>8</td>\n",
       "      <td>7969</td>\n",
       "    </tr>\n",
       "  </tbody>\n",
       "</table>\n",
       "</div>"
      ],
      "text/plain": [
       "   User_ID Product_ID Gender   Age  Occupation City_Category  \\\n",
       "0  1000001  P00069042      F  0-17          10             A   \n",
       "1  1000001  P00248942      F  0-17          10             A   \n",
       "2  1000001  P00087842      F  0-17          10             A   \n",
       "3  1000001  P00085442      F  0-17          10             A   \n",
       "4  1000002  P00285442      M   55+          16             C   \n",
       "\n",
       "  Stay_In_Current_City_Years  Marital_Status  Product_Category  Purchase  \n",
       "0                          2               0                 3      8370  \n",
       "1                          2               0                 1     15200  \n",
       "2                          2               0                12      1422  \n",
       "3                          2               0                12      1057  \n",
       "4                         4+               0                 8      7969  "
      ]
     },
     "execution_count": 2,
     "metadata": {},
     "output_type": "execute_result"
    }
   ],
   "source": [
    "df = pd.read_csv('https://d2beiqkhq929f0.cloudfront.net/public_assets/assets/000/001/293/original/walmart_data.csv?1641285094')\n",
    "df.head()"
   ]
  },
  {
   "cell_type": "code",
   "execution_count": 3,
   "id": "76f2d559",
   "metadata": {},
   "outputs": [
    {
     "data": {
      "text/plain": [
       "(550068, 10)"
      ]
     },
     "execution_count": 3,
     "metadata": {},
     "output_type": "execute_result"
    }
   ],
   "source": [
    "# Shape of the dataset -\n",
    "df.shape"
   ]
  },
  {
   "cell_type": "code",
   "execution_count": 4,
   "id": "7d3ba594",
   "metadata": {},
   "outputs": [
    {
     "data": {
      "text/plain": [
       "User_ID                        int64\n",
       "Product_ID                    object\n",
       "Gender                        object\n",
       "Age                           object\n",
       "Occupation                     int64\n",
       "City_Category                 object\n",
       "Stay_In_Current_City_Years    object\n",
       "Marital_Status                 int64\n",
       "Product_Category               int64\n",
       "Purchase                       int64\n",
       "dtype: object"
      ]
     },
     "execution_count": 4,
     "metadata": {},
     "output_type": "execute_result"
    }
   ],
   "source": [
    "# Checking data types -\n",
    "df.dtypes"
   ]
  },
  {
   "cell_type": "code",
   "execution_count": 5,
   "id": "93f1a66e",
   "metadata": {},
   "outputs": [
    {
     "name": "stdout",
     "output_type": "stream",
     "text": [
      "User_ID : 5891\n",
      "Product_ID : 3631\n",
      "Gender : 2\n",
      "Age : 7\n",
      "Occupation : 21\n",
      "City_Category : 3\n",
      "Stay_In_Current_City_Years : 5\n",
      "Marital_Status : 2\n",
      "Product_Category : 20\n",
      "Purchase : 18105\n"
     ]
    }
   ],
   "source": [
    "# Number of unique values in each column\n",
    "for i in df.columns:\n",
    "  print(i, ':', df[i].nunique())"
   ]
  },
  {
   "cell_type": "markdown",
   "id": "668d198c",
   "metadata": {},
   "source": [
    "## 2. Null values & Outliers detection"
   ]
  },
  {
   "cell_type": "code",
   "execution_count": 6,
   "id": "989f9b4c",
   "metadata": {},
   "outputs": [
    {
     "data": {
      "text/plain": [
       "User_ID                       0\n",
       "Product_ID                    0\n",
       "Gender                        0\n",
       "Age                           0\n",
       "Occupation                    0\n",
       "City_Category                 0\n",
       "Stay_In_Current_City_Years    0\n",
       "Marital_Status                0\n",
       "Product_Category              0\n",
       "Purchase                      0\n",
       "dtype: int64"
      ]
     },
     "execution_count": 6,
     "metadata": {},
     "output_type": "execute_result"
    }
   ],
   "source": [
    "# Checking for null values -\n",
    "df.isnull().sum()"
   ]
  },
  {
   "cell_type": "markdown",
   "id": "b31c15d8",
   "metadata": {},
   "source": [
    "There aren't any missing values in the dataset."
   ]
  },
  {
   "cell_type": "code",
   "execution_count": 19,
   "id": "49c80d88",
   "metadata": {},
   "outputs": [
    {
     "data": {
      "image/png": "[encoded data removed]",
      "text/plain": [
       "<Figure size 432x288 with 1 Axes>"
      ]
     },
     "metadata": {
      "needs_background": "light"
     },
     "output_type": "display_data"
    }
   ],
   "source": [
    "ax = sns.boxplot(x=df[\"Purchase\"])\n",
    "plt.show()"
   ]
  },
  {
   "cell_type": "code",
   "execution_count": 20,
   "id": "1024410e",
   "metadata": {},
   "outputs": [
    {
     "data": {
      "image/png": "[encoded data removed]",
      "text/plain": [
       "<Figure size 432x288 with 1 Axes>"
      ]
     },
     "metadata": {
      "needs_background": "light"
     },
     "output_type": "display_data"
    }
   ],
   "source": [
    "ax = sns.boxplot(x=df[\"Product_Category\"])\n",
    "plt.show()"
   ]
  },
  {
   "cell_type": "code",
   "execution_count": 21,
   "id": "55420358",
   "metadata": {},
   "outputs": [
    {
     "data": {
      "text/plain": [
       "count    550068.000000\n",
       "mean       9263.968713\n",
       "std        5023.065394\n",
       "min          12.000000\n",
       "25%        5823.000000\n",
       "50%        8047.000000\n",
       "75%       12054.000000\n",
       "max       23961.000000\n",
       "Name: Purchase, dtype: float64"
      ]
     },
     "execution_count": 21,
     "metadata": {},
     "output_type": "execute_result"
    }
   ],
   "source": [
    "df[\"Purchase\"].describe()"
   ]
  },
  {
   "cell_type": "markdown",
   "id": "c192f1fd",
   "metadata": {},
   "source": [
    "## 3.Data Exploration"
   ]
  },
  {
   "cell_type": "markdown",
   "id": "cd73c2d6",
   "metadata": {},
   "source": [
    "### a. average spent per transaction by Female"
   ]
  },
  {
   "cell_type": "code",
   "execution_count": 58,
   "id": "b97f9f5c",
   "metadata": {},
   "outputs": [
    {
     "data": {
      "text/plain": [
       "8734.565765155476"
      ]
     },
     "execution_count": 58,
     "metadata": {},
     "output_type": "execute_result"
    }
   ],
   "source": [
    "df[(df[\"Gender\"] == 'F')]['Purchase'].sum()/df[(df[\"Gender\"] == 'F')]['Purchase'].count()"
   ]
  },
  {
   "cell_type": "markdown",
   "id": "9691b6d2",
   "metadata": {},
   "source": [
    "### b. average spent per transaction by Male"
   ]
  },
  {
   "cell_type": "code",
   "execution_count": 59,
   "id": "c4f8ed86",
   "metadata": {},
   "outputs": [
    {
     "data": {
      "text/plain": [
       "9437.526040472265"
      ]
     },
     "execution_count": 59,
     "metadata": {},
     "output_type": "execute_result"
    }
   ],
   "source": [
    "df[(df[\"Gender\"] == 'M')]['Purchase'].sum()/df[(df[\"Gender\"] == 'M')]['Purchase'].count()"
   ]
  },
  {
   "cell_type": "markdown",
   "id": "45e53e98",
   "metadata": {},
   "source": [
    "### c. Inference after computing the average female and male expenses\n",
    "\n",
    "Male purchases more than Female"
   ]
  },
  {
   "cell_type": "markdown",
   "id": "f584c982",
   "metadata": {},
   "source": [
    "### d. An interval within which the population average will lie"
   ]
  },
  {
   "cell_type": "code",
   "execution_count": 60,
   "id": "88a1b4d3",
   "metadata": {},
   "outputs": [
    {
     "name": "stdout",
     "output_type": "stream",
     "text": [
      "8318.59315\n",
      "9147.412250000001\n"
     ]
    }
   ],
   "source": [
    "# Let's create r=10000 bootstrap samples, and let each bootstrap sample be of size=\n",
    "# bs_means is a list of 'r' bootstrap sample means\n",
    "r = 10000\n",
    "femaledf = df[(df[\"Gender\"] == 'F')]['Purchase']\n",
    "size = 500\n",
    "female_means = np.empty(r)\n",
    "for i in range(r):\n",
    "    female_sample = np.random.choice(femaledf, size=size)\n",
    "    female_means[i] = np.mean(female_sample)\n",
    "print(np.percentile(female_means,2.5))\n",
    "print(np.percentile(female_means,97.5))"
   ]
  },
  {
   "cell_type": "code",
   "execution_count": 61,
   "id": "a1e77468",
   "metadata": {},
   "outputs": [
    {
     "name": "stdout",
     "output_type": "stream",
     "text": [
      "8992.8664\n",
      "9896.5549\n"
     ]
    }
   ],
   "source": [
    "r = 10000\n",
    "maledf = df[(df[\"Gender\"] == 'M')]['Purchase']\n",
    "size = 500\n",
    "male_means = np.empty(r)\n",
    "for i in range(r):\n",
    "    male_sample = np.random.choice(maledf, size=size)\n",
    "    male_means[i] = np.mean(male_sample)\n",
    "print(np.percentile(male_means,2.5))\n",
    "print(np.percentile(male_means,97.5))"
   ]
  },
  {
   "cell_type": "markdown",
   "id": "8b70b8ba",
   "metadata": {},
   "source": [
    "## 4. Central limit theorem to compute the interval"
   ]
  },
  {
   "cell_type": "markdown",
   "id": "8ca7bd01",
   "metadata": {},
   "source": [
    "### a. Female purchase with 90% CI and Sample size is 500"
   ]
  },
  {
   "cell_type": "code",
   "execution_count": 27,
   "id": "f022c9b5",
   "metadata": {},
   "outputs": [
    {
     "data": {
      "image/png": "[encoded data removed]",
      "text/plain": [
       "<Figure size 432x288 with 1 Axes>"
      ]
     },
     "metadata": {
      "needs_background": "light"
     },
     "output_type": "display_data"
    }
   ],
   "source": [
    "# Let's create r=10000 bootstrap samples, and let each bootstrap sample be of size=\n",
    "# bs_means is a list of 'r' bootstrap sample means\n",
    "r = 10000\n",
    "femaleData = df[(df[\"Gender\"] == 'F')]['Purchase']\n",
    "size = 500\n",
    "bs_means = np.empty(r)\n",
    "for i in range(r):\n",
    "    bs_sample = np.random.choice(femaleData, size=size)\n",
    "    bs_means[i] = np.mean(bs_sample)\n",
    "    \n",
    "import matplotlib.pyplot as plt\n",
    "plt.figure()\n",
    "plt.hist(bs_means, bins=100)\n",
    "plt.grid()\n",
    "plt.show()"
   ]
  },
  {
   "cell_type": "code",
   "execution_count": 28,
   "id": "0eb1cbe6",
   "metadata": {},
   "outputs": [
    {
     "name": "stdout",
     "output_type": "stream",
     "text": [
      "8733.1616084\n",
      "216.71990174806987\n"
     ]
    }
   ],
   "source": [
    "# compute C.I on the mean given that bs_means follows Gaussian distribution: CLT\n",
    "print(np.mean(bs_means))\n",
    "print(np.std(bs_means))"
   ]
  },
  {
   "cell_type": "code",
   "execution_count": 29,
   "id": "8904d62b",
   "metadata": {},
   "outputs": [
    {
     "name": "stdout",
     "output_type": "stream",
     "text": [
      "8299.72180490386\n",
      "9166.60141189614\n"
     ]
    }
   ],
   "source": [
    "print(np.mean(bs_means)-2*np.std(bs_means))\n",
    "print(np.mean(bs_means)+2*np.std(bs_means))"
   ]
  },
  {
   "cell_type": "code",
   "execution_count": 30,
   "id": "1af2aebc",
   "metadata": {},
   "outputs": [
    {
     "name": "stdout",
     "output_type": "stream",
     "text": [
      "8376.8537\n",
      "9094.2087\n"
     ]
    }
   ],
   "source": [
    "# could we just use the 5th percentile and 95th percentile value\n",
    "print(np.percentile(bs_means,5))\n",
    "print(np.percentile(bs_means,95))"
   ]
  },
  {
   "cell_type": "markdown",
   "id": "ae8b8de1",
   "metadata": {},
   "source": [
    "### b. Female purchase with 95% CI and Sample size is 500"
   ]
  },
  {
   "cell_type": "code",
   "execution_count": 32,
   "id": "43fb1626",
   "metadata": {},
   "outputs": [
    {
     "name": "stdout",
     "output_type": "stream",
     "text": [
      "8316.46205\n",
      "9166.0389\n"
     ]
    }
   ],
   "source": [
    "# could we just use the 2.5th percentile and 97.5th percentile value\n",
    "print(np.percentile(bs_means,2.5))\n",
    "print(np.percentile(bs_means,97.5))"
   ]
  },
  {
   "cell_type": "markdown",
   "id": "2eb28c5e",
   "metadata": {},
   "source": [
    "### c. Female purchase with 99% CI and Sample size is 500"
   ]
  },
  {
   "cell_type": "code",
   "execution_count": 42,
   "id": "616c1311",
   "metadata": {},
   "outputs": [
    {
     "name": "stdout",
     "output_type": "stream",
     "text": [
      "8174.4184399999995\n",
      "9288.085529999998\n"
     ]
    }
   ],
   "source": [
    "# could we just use the .5th percentile and 99.5th percentile value\n",
    "print(np.percentile(bs_means,.5))\n",
    "print(np.percentile(bs_means,99.5))"
   ]
  },
  {
   "cell_type": "markdown",
   "id": "78808ee9",
   "metadata": {},
   "source": [
    "### d. Female purchase with 90% CI and Sample size is 1000"
   ]
  },
  {
   "cell_type": "code",
   "execution_count": 37,
   "id": "b9ab23bc",
   "metadata": {},
   "outputs": [
    {
     "data": {
      "image/png": "[encoded data removed]",
      "text/plain": [
       "<Figure size 432x288 with 1 Axes>"
      ]
     },
     "metadata": {
      "needs_background": "light"
     },
     "output_type": "display_data"
    }
   ],
   "source": [
    "# Let's create r=10000 bootstrap samples, and let each bootstrap sample be of size=\n",
    "# bs_means is a list of 'r' bootstrap sample means\n",
    "r = 10000\n",
    "femaleData1 = df[(df[\"Gender\"] == 'F')]['Purchase']\n",
    "size = 1000\n",
    "bs_means1 = np.empty(r)\n",
    "for i in range(r):\n",
    "    bs_sample1 = np.random.choice(femaleData1, size=size)\n",
    "    bs_means1[i] = np.mean(bs_sample1)\n",
    "    \n",
    "import matplotlib.pyplot as plt\n",
    "plt.figure()\n",
    "plt.hist(bs_means1, bins=100)\n",
    "plt.grid()\n",
    "plt.show()"
   ]
  },
  {
   "cell_type": "code",
   "execution_count": 38,
   "id": "e8f80fee",
   "metadata": {},
   "outputs": [
    {
     "name": "stdout",
     "output_type": "stream",
     "text": [
      "8734.1744088\n",
      "152.04243867143174\n"
     ]
    }
   ],
   "source": [
    "# compute C.I on the mean given that bs_means follows Gaussian distribution: CLT\n",
    "print(np.mean(bs_means1))\n",
    "print(np.std(bs_means1))"
   ]
  },
  {
   "cell_type": "code",
   "execution_count": 39,
   "id": "54356886",
   "metadata": {},
   "outputs": [
    {
     "name": "stdout",
     "output_type": "stream",
     "text": [
      "8430.089531457135\n",
      "9038.259286142864\n"
     ]
    }
   ],
   "source": [
    "print(np.mean(bs_means1)-2*np.std(bs_means1))\n",
    "print(np.mean(bs_means1)+2*np.std(bs_means1))"
   ]
  },
  {
   "cell_type": "code",
   "execution_count": 40,
   "id": "9fee4139",
   "metadata": {},
   "outputs": [
    {
     "name": "stdout",
     "output_type": "stream",
     "text": [
      "8491.35885\n",
      "8988.3319\n"
     ]
    }
   ],
   "source": [
    "# could we just use the 5th percentile and 95th percentile value\n",
    "print(np.percentile(bs_means1,5))\n",
    "print(np.percentile(bs_means1,95))"
   ]
  },
  {
   "cell_type": "markdown",
   "id": "89937540",
   "metadata": {},
   "source": [
    "### e. Female purchase with 95% CI and Sample size is 1000"
   ]
  },
  {
   "cell_type": "code",
   "execution_count": 41,
   "id": "6f74c2c1",
   "metadata": {},
   "outputs": [
    {
     "name": "stdout",
     "output_type": "stream",
     "text": [
      "8441.423550000001\n",
      "9039.983875\n"
     ]
    }
   ],
   "source": [
    "# could we just use the 2.5th percentile and 97.5th percentile value\n",
    "print(np.percentile(bs_means1,2.5))\n",
    "print(np.percentile(bs_means1,97.5))"
   ]
  },
  {
   "cell_type": "markdown",
   "id": "415d230f",
   "metadata": {},
   "source": [
    "### f. Female purchase with 99% CI and Sample size is 1000"
   ]
  },
  {
   "cell_type": "code",
   "execution_count": 43,
   "id": "7780dee2",
   "metadata": {},
   "outputs": [
    {
     "name": "stdout",
     "output_type": "stream",
     "text": [
      "8349.508985\n",
      "9134.600709999999\n"
     ]
    }
   ],
   "source": [
    "# could we just use the .5th percentile and 99.5th percentile value\n",
    "print(np.percentile(bs_means1,.5))\n",
    "print(np.percentile(bs_means1,99.5))"
   ]
  },
  {
   "cell_type": "markdown",
   "id": "2dc30b3b",
   "metadata": {},
   "source": [
    "### g. Male purchase with 90% CI and Sample size is 500"
   ]
  },
  {
   "cell_type": "code",
   "execution_count": 44,
   "id": "4cdc2dac",
   "metadata": {},
   "outputs": [
    {
     "data": {
      "image/png": "[encoded data removed]",
      "text/plain": [
       "<Figure size 432x288 with 1 Axes>"
      ]
     },
     "metadata": {
      "needs_background": "light"
     },
     "output_type": "display_data"
    }
   ],
   "source": [
    "# Let's create r=10000 bootstrap samples, and let each bootstrap sample be of size=\n",
    "# bs_means is a list of 'r' bootstrap sample means\n",
    "r = 10000\n",
    "maleData1 = df[(df[\"Gender\"] == 'M')]['Purchase']\n",
    "size = 500\n",
    "bs_means2 = np.empty(r)\n",
    "for i in range(r):\n",
    "    bs_sample2 = np.random.choice(maleData1, size=size)\n",
    "    bs_means2[i] = np.mean(bs_sample2)\n",
    "    \n",
    "import matplotlib.pyplot as plt\n",
    "plt.figure()\n",
    "plt.hist(bs_means2, bins=100)\n",
    "plt.grid()\n",
    "plt.show()"
   ]
  },
  {
   "cell_type": "code",
   "execution_count": 45,
   "id": "2253c0be",
   "metadata": {},
   "outputs": [
    {
     "name": "stdout",
     "output_type": "stream",
     "text": [
      "9441.9509252\n",
      "226.25949273543245\n"
     ]
    }
   ],
   "source": [
    "# compute C.I on the mean given that bs_means follows Gaussian distribution: CLT\n",
    "print(np.mean(bs_means2))\n",
    "print(np.std(bs_means2))"
   ]
  },
  {
   "cell_type": "code",
   "execution_count": 46,
   "id": "7dec428d",
   "metadata": {},
   "outputs": [
    {
     "name": "stdout",
     "output_type": "stream",
     "text": [
      "8989.431939729137\n",
      "9894.469910670865\n"
     ]
    }
   ],
   "source": [
    "print(np.mean(bs_means2)-2*np.std(bs_means2))\n",
    "print(np.mean(bs_means2)+2*np.std(bs_means2))"
   ]
  },
  {
   "cell_type": "code",
   "execution_count": 47,
   "id": "402a2143",
   "metadata": {},
   "outputs": [
    {
     "name": "stdout",
     "output_type": "stream",
     "text": [
      "9068.2665\n",
      "9816.294399999999\n"
     ]
    }
   ],
   "source": [
    "# could we just use the 5th percentile and 95th percentile value\n",
    "print(np.percentile(bs_means2,5))\n",
    "print(np.percentile(bs_means2,95))"
   ]
  },
  {
   "cell_type": "markdown",
   "id": "8bc7ed4d",
   "metadata": {},
   "source": [
    "### h. Male purchase with 95% CI and Sample size is 500"
   ]
  },
  {
   "cell_type": "code",
   "execution_count": 48,
   "id": "48f84311",
   "metadata": {},
   "outputs": [
    {
     "name": "stdout",
     "output_type": "stream",
     "text": [
      "9002.18355\n",
      "9888.711399999998\n"
     ]
    }
   ],
   "source": [
    "# could we just use the 2.5th percentile and 97.5th percentile value\n",
    "print(np.percentile(bs_means2,2.5))\n",
    "print(np.percentile(bs_means2,97.5))"
   ]
  },
  {
   "cell_type": "markdown",
   "id": "ee7992fd",
   "metadata": {},
   "source": [
    "### i. Male purchase with 99% CI and Sample size is 500"
   ]
  },
  {
   "cell_type": "code",
   "execution_count": 49,
   "id": "b4623d06",
   "metadata": {},
   "outputs": [
    {
     "name": "stdout",
     "output_type": "stream",
     "text": [
      "8878.302950000001\n",
      "10037.047199999997\n"
     ]
    }
   ],
   "source": [
    "# could we just use the .5th percentile and 99.5th percentile value\n",
    "print(np.percentile(bs_means2,.5))\n",
    "print(np.percentile(bs_means2,99.5))"
   ]
  },
  {
   "cell_type": "markdown",
   "id": "f56ef28d",
   "metadata": {},
   "source": [
    "### j. Male purchase with 90% CI and Sample size is 1000"
   ]
  },
  {
   "cell_type": "code",
   "execution_count": 50,
   "id": "6d1f6629",
   "metadata": {},
   "outputs": [
    {
     "data": {
      "image/png": "[encoded data removed]",
      "text/plain": [
       "<Figure size 432x288 with 1 Axes>"
      ]
     },
     "metadata": {
      "needs_background": "light"
     },
     "output_type": "display_data"
    }
   ],
   "source": [
    "# Let's create r=10000 bootstrap samples, and let each bootstrap sample be of size=\n",
    "# bs_means is a list of 'r' bootstrap sample means\n",
    "r = 10000\n",
    "maleData2 = df[(df[\"Gender\"] == 'M')]['Purchase']\n",
    "size = 1000\n",
    "bs_means3 = np.empty(r)\n",
    "for i in range(r):\n",
    "    bs_sample3 = np.random.choice(maleData2, size=size)\n",
    "    bs_means3[i] = np.mean(bs_sample3)\n",
    "    \n",
    "import matplotlib.pyplot as plt\n",
    "plt.figure()\n",
    "plt.hist(bs_means3, bins=100)\n",
    "plt.grid()\n",
    "plt.show()"
   ]
  },
  {
   "cell_type": "code",
   "execution_count": 51,
   "id": "0a9f3425",
   "metadata": {},
   "outputs": [
    {
     "name": "stdout",
     "output_type": "stream",
     "text": [
      "9437.292143400002\n",
      "161.3406293489778\n"
     ]
    }
   ],
   "source": [
    "# compute C.I on the mean given that bs_means follows Gaussian distribution: CLT\n",
    "print(np.mean(bs_means3))\n",
    "print(np.std(bs_means3))"
   ]
  },
  {
   "cell_type": "code",
   "execution_count": 52,
   "id": "6d0d3f76",
   "metadata": {},
   "outputs": [
    {
     "name": "stdout",
     "output_type": "stream",
     "text": [
      "9114.610884702046\n",
      "9759.973402097958\n"
     ]
    }
   ],
   "source": [
    "print(np.mean(bs_means3)-2*np.std(bs_means3))\n",
    "print(np.mean(bs_means3)+2*np.std(bs_means3))"
   ]
  },
  {
   "cell_type": "code",
   "execution_count": 53,
   "id": "2386ce69",
   "metadata": {},
   "outputs": [
    {
     "name": "stdout",
     "output_type": "stream",
     "text": [
      "9170.0223\n",
      "9705.45105\n"
     ]
    }
   ],
   "source": [
    "# could we just use the 5th percentile and 95th percentile value\n",
    "print(np.percentile(bs_means3,5))\n",
    "print(np.percentile(bs_means3,95))"
   ]
  },
  {
   "cell_type": "markdown",
   "id": "077b0bdf",
   "metadata": {},
   "source": [
    "### k. Male purchase with 95% CI and Sample size is 1000"
   ]
  },
  {
   "cell_type": "code",
   "execution_count": 54,
   "id": "7f13c9c8",
   "metadata": {},
   "outputs": [
    {
     "name": "stdout",
     "output_type": "stream",
     "text": [
      "9123.7821\n",
      "9757.2015\n"
     ]
    }
   ],
   "source": [
    "# could we just use the 2.5th percentile and 97.5th percentile value\n",
    "print(np.percentile(bs_means3,2.5))\n",
    "print(np.percentile(bs_means3,97.5))"
   ]
  },
  {
   "cell_type": "markdown",
   "id": "17c5a290",
   "metadata": {},
   "source": [
    "### l. Male purchase with 99% CI and Sample size is 1000"
   ]
  },
  {
   "cell_type": "code",
   "execution_count": 55,
   "id": "280f09ff",
   "metadata": {},
   "outputs": [
    {
     "name": "stdout",
     "output_type": "stream",
     "text": [
      "9022.656055\n",
      "9850.660555\n"
     ]
    }
   ],
   "source": [
    "# could we just use the .5th percentile and 99.5th percentile value\n",
    "print(np.percentile(bs_means3,.5))\n",
    "print(np.percentile(bs_means3,99.5))"
   ]
  },
  {
   "cell_type": "markdown",
   "id": "441168c0",
   "metadata": {},
   "source": [
    "## observations from CLT interval\n",
    "\n",
    "* Using CLT observed Male customer purchase more compare with Female\n",
    "* When Sample size getting increased we will get more closer value\n",
    "* When CI increases lower & upper limit gets wider"
   ]
  },
  {
   "cell_type": "markdown",
   "id": "880b8826",
   "metadata": {},
   "source": [
    "## 5. observations from CLT interval\n",
    "\n",
    "* Male customer purchase more compare with Female\n",
    "* When I took 500 samples, there is some level of overlapping between male & female. Also found when CI increases overlap also getting increases\n",
    "* When sample size increases, overlapping getting decreased"
   ]
  },
  {
   "cell_type": "markdown",
   "id": "d7718201",
   "metadata": {},
   "source": [
    "## 6.Agewise"
   ]
  },
  {
   "cell_type": "code",
   "execution_count": 69,
   "id": "e5e8d83f",
   "metadata": {},
   "outputs": [
    {
     "data": {
      "text/plain": [
       "<AxesSubplot:xlabel='Purchase', ylabel='Count'>"
      ]
     },
     "execution_count": 69,
     "metadata": {},
     "output_type": "execute_result"
    },
    {
     "data": {
      "image/png": "[encoded data removed]",
      "text/plain": [
       "<Figure size 432x288 with 1 Axes>"
      ]
     },
     "metadata": {
      "needs_background": "light"
     },
     "output_type": "display_data"
    }
   ],
   "source": [
    "sns.histplot(data=df, x='Purchase', bins=10, hue='Age')"
   ]
  },
  {
   "cell_type": "markdown",
   "id": "7b44cfdd",
   "metadata": {},
   "source": [
    "## 7.Recommendations\n",
    "\n",
    "From the data we can conclude Male purchasing more than Female (there is some level of overlapping, but with 90% CI we can say)\n",
    "Better business team can concentrate on some offer on Female related product and they can increase the Female purchase capabilities"
   ]
  },
  {
   "cell_type": "code",
   "execution_count": null,
   "id": "a029b970",
   "metadata": {},
   "outputs": [],
   "source": []
  }
 ],
 "metadata": {
  "kernelspec": {
   "display_name": "Python 3 (ipykernel)",
   "language": "python",
   "name": "python3"
  },
  "language_info": {
   "codemirror_mode": {
    "name": "ipython",
    "version": 3
   },
   "file_extension": ".py",
   "mimetype": "text/x-python",
   "name": "python",
   "nbconvert_exporter": "python",
   "pygments_lexer": "ipython3",
   "version": "3.10.4"
  }
 },
 "nbformat": 4,
 "nbformat_minor": 5
}
